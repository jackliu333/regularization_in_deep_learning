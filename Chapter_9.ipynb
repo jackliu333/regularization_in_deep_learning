{
  "nbformat": 4,
  "nbformat_minor": 0,
  "metadata": {
    "colab": {
      "provenance": [],
      "collapsed_sections": [
        "qX-e0MkZBC52",
        "2aa0mFLEBAz6"
      ],
      "authorship_tag": "ABX9TyOT4GyfKJc10uh4LuIhUqeD"
    },
    "kernelspec": {
      "name": "python3",
      "display_name": "Python 3"
    },
    "language_info": {
      "name": "python"
    }
  },
  "cells": [
    {
      "cell_type": "code",
      "execution_count": 104,
      "metadata": {
        "colab": {
          "base_uri": "https://localhost:8080/"
        },
        "id": "psjAnMXKzFgx",
        "outputId": "5bf949e1-9368-45e9-c5e1-dd37c9693231"
      },
      "outputs": [
        {
          "output_type": "stream",
          "name": "stdout",
          "text": [
            "Looking in indexes: https://pypi.org/simple, https://us-python.pkg.dev/colab-wheels/public/simple/\n",
            "Requirement already satisfied: networkx in /usr/local/lib/python3.8/dist-packages (2.8.8)\n"
          ]
        }
      ],
      "source": [
        "!pip install networkx"
      ]
    },
    {
      "cell_type": "code",
      "source": [
        "import networkx as nx\n",
        "import numpy as np\n",
        "import torch\n",
        "import random\n",
        "import matplotlib.pyplot as plt\n",
        "\n",
        "SEED = 8\n",
        "torch.manual_seed(SEED)\n",
        "random.seed(SEED)\n",
        "np.random.seed(SEED)"
      ],
      "metadata": {
        "id": "VKNKyerozqRq"
      },
      "execution_count": 105,
      "outputs": []
    },
    {
      "cell_type": "markdown",
      "source": [
        "# Define the shortest path model class"
      ],
      "metadata": {
        "id": "qX-e0MkZBC52"
      }
    },
    {
      "cell_type": "code",
      "source": [
        "class ShortestPathModel():\n",
        "\n",
        "    def __init__(self, grid):\n",
        "        # grid (tuple): size of grid network\n",
        "        self.grid = grid\n",
        "        # arcs/edges of the network\n",
        "        self.arcs = self.getArcs()\n",
        "        # creating a network model and its associated edges\n",
        "        self.model, self.edges = self.getModel()\n",
        "        # number of edges with cost\n",
        "        self.num_cost = self.get_num_cost()\n",
        "\n",
        "    # method to get the list of arcs/edges for the grid network\n",
        "    def getArcs(self):\n",
        "        arcs = []\n",
        "        for i in range(self.grid[0]):\n",
        "            # edges along the rows\n",
        "            for j in range(self.grid[1] - 1):\n",
        "                v = i * self.grid[1] + j\n",
        "                arcs.append((v, v + 1))\n",
        "            # edges along the columns\n",
        "            if i == self.grid[0] - 1:\n",
        "                # no downward column connection at the last row\n",
        "                continue \n",
        "            for j in range(self.grid[1]):\n",
        "                v = i * self.grid[1] + j\n",
        "                arcs.append((v, v + self.grid[1]))\n",
        "        return arcs\n",
        "\n",
        "    # build an optimization model\n",
        "    def getModel(self):\n",
        "        # build graph as optimization model\n",
        "        g = nx.Graph()\n",
        "        # add arcs as variables\n",
        "        g.add_edges_from(self.arcs, cost=0)\n",
        "        return g, g.edges\n",
        "\n",
        "    # set the optimization objective to minimize the total cost\n",
        "    def setObj(self, costs):\n",
        "        for i, e in enumerate(self.arcs):\n",
        "            self.model.edges[e][\"cost\"] = costs[i]\n",
        "\n",
        "    # obtain the optimal solution and objective value\n",
        "    def solve(self):\n",
        "        # solve using dijkstra algorithm\n",
        "        path = nx.shortest_path(self.model, weight=\"cost\", source=0, target=self.grid[0]*self.grid[1]-1)\n",
        "        # convert path into active edges\n",
        "        edges = []\n",
        "        u = 0\n",
        "        for v in path[1:]:\n",
        "            edges.append((u,v))\n",
        "            u = v\n",
        "        # initial solution and objective\n",
        "        sol = np.zeros(self.num_cost)\n",
        "        obj = 0\n",
        "        # convert active edges into solution and obj\n",
        "        for i, e in enumerate(self.arcs):\n",
        "            if e in edges:\n",
        "                # active edge\n",
        "                sol[i] = 1 \n",
        "                # cost of active edge\n",
        "                obj += self.model.edges[e][\"cost\"] \n",
        "        return sol, obj\n",
        "    \n",
        "    # count the number of edges in the network\n",
        "    def get_num_cost(self):\n",
        "        # this is also the number of costs to be predicted\n",
        "        return len(self.arcs)"
      ],
      "metadata": {
        "id": "bsCT3acIztMq"
      },
      "execution_count": 106,
      "outputs": []
    },
    {
      "cell_type": "code",
      "source": [
        "grid = (3,3)\n",
        "opt_model = ShortestPathModel(grid=grid)"
      ],
      "metadata": {
        "id": "dsgkPzew_4Vv"
      },
      "execution_count": 107,
      "outputs": []
    },
    {
      "cell_type": "code",
      "source": [
        "opt_model.getArcs()"
      ],
      "metadata": {
        "colab": {
          "base_uri": "https://localhost:8080/"
        },
        "id": "C5mIPK2QAAV0",
        "outputId": "2063f9cd-b4ce-4176-b761-725a064508ab"
      },
      "execution_count": 108,
      "outputs": [
        {
          "output_type": "execute_result",
          "data": {
            "text/plain": [
              "[(0, 1),\n",
              " (1, 2),\n",
              " (0, 3),\n",
              " (1, 4),\n",
              " (2, 5),\n",
              " (3, 4),\n",
              " (4, 5),\n",
              " (3, 6),\n",
              " (4, 7),\n",
              " (5, 8),\n",
              " (6, 7),\n",
              " (7, 8)]"
            ]
          },
          "metadata": {},
          "execution_count": 108
        }
      ]
    },
    {
      "cell_type": "code",
      "source": [
        "opt_model.get_num_cost()"
      ],
      "metadata": {
        "colab": {
          "base_uri": "https://localhost:8080/"
        },
        "id": "tmv4VlzaADCU",
        "outputId": "8390da94-246b-4b95-b7d1-44159a7f2aaa"
      },
      "execution_count": 109,
      "outputs": [
        {
          "output_type": "execute_result",
          "data": {
            "text/plain": [
              "12"
            ]
          },
          "metadata": {},
          "execution_count": 109
        }
      ]
    },
    {
      "cell_type": "code",
      "source": [
        "# visualize the graph\n",
        "# unique nodes in the graph\n",
        "list_nodes = list(opt_model.model.nodes)\n",
        "\n",
        "# obtain coordinate for each node in the graph\n",
        "node_pos = {}\n",
        "for node in list_nodes:\n",
        "    node_pos[node] = (int(node%grid[0]), -int(node/grid[1]))\n",
        "\n",
        "# color the start and sink nodes red and rest yellow\n",
        "node_col = ['yellow' if not node in [list_nodes[0], list_nodes[-1]] else 'red' for node in list_nodes]\n",
        "# draw the graphical network\n",
        "nx.draw_networkx(opt_model.model, node_pos, node_color= node_col, node_size=500)"
      ],
      "metadata": {
        "colab": {
          "base_uri": "https://localhost:8080/",
          "height": 0
        },
        "id": "TocHLfhs5g4T",
        "outputId": "d4b8ed9c-560d-466d-d8b0-13e36cab52cb"
      },
      "execution_count": 110,
      "outputs": [
        {
          "output_type": "display_data",
          "data": {
            "text/plain": [
              "<Figure size 432x288 with 1 Axes>"
            ],
            "image/png": "[encoded data removed]"
          },
          "metadata": {}
        }
      ]
    },
    {
      "cell_type": "code",
      "source": [
        "# solving the 3x3 shortest path problem\n",
        "opt_model.setObj(costs=[1]*opt_model.get_num_cost())\n",
        "path = nx.shortest_path(opt_model.model, weight=\"cost\", source=0, target=opt_model.grid[0]*opt_model.grid[1]-1)"
      ],
      "metadata": {
        "id": "ota93gevd8qs"
      },
      "execution_count": 111,
      "outputs": []
    },
    {
      "cell_type": "code",
      "source": [
        "path"
      ],
      "metadata": {
        "colab": {
          "base_uri": "https://localhost:8080/"
        },
        "id": "s0ssStfC9TuI",
        "outputId": "cacccd5b-9155-467f-e8b4-c978abae57b8"
      },
      "execution_count": 112,
      "outputs": [
        {
          "output_type": "execute_result",
          "data": {
            "text/plain": [
              "[0, 1, 2, 5, 8]"
            ]
          },
          "metadata": {},
          "execution_count": 112
        }
      ]
    },
    {
      "cell_type": "markdown",
      "source": [
        "# Run the model for 5x5 grid"
      ],
      "metadata": {
        "id": "2aa0mFLEBAz6"
      }
    },
    {
      "cell_type": "code",
      "source": [
        "# grid graph size\n",
        "grid = (5,5)\n",
        "\n",
        "# initialize the optimization model\n",
        "opt_model = ShortestPathModel(grid) \n",
        "\n",
        "# set random cost\n",
        "cost = [random.random() for _ in range(opt_model.get_num_cost())]\n",
        "\n",
        "# set objective function\n",
        "opt_model.setObj(cost) \n",
        "\n",
        "# solve the optimization model\n",
        "sol, obj = opt_model.solve()\n",
        "\n",
        "# store active edges\n",
        "sol_edges = []\n",
        "for i, e in enumerate(opt_model.arcs):\n",
        "    if sol[i] > 1e-3:\n",
        "        sol_edges.append(e)"
      ],
      "metadata": {
        "id": "z0x8Yo9kPSIm"
      },
      "execution_count": 113,
      "outputs": []
    },
    {
      "cell_type": "code",
      "source": [
        "print('Obj: {}'.format(obj))\n",
        "print(sol_edges)"
      ],
      "metadata": {
        "colab": {
          "base_uri": "https://localhost:8080/"
        },
        "id": "aY1EFwOCjSvY",
        "outputId": "88b406ca-7c03-4a80-aaff-38c49e83dc3e"
      },
      "execution_count": 114,
      "outputs": [
        {
          "output_type": "stream",
          "name": "stdout",
          "text": [
            "Obj: 1.9975628342989649\n",
            "[(0, 1), (1, 6), (6, 7), (7, 8), (8, 13), (13, 14), (14, 19), (19, 24)]\n"
          ]
        }
      ]
    },
    {
      "cell_type": "code",
      "source": [
        "# obtain unique node indices as a list\n",
        "list_nodes = list(opt_model.model.nodes)\n",
        "\n",
        "# positional encoding for each node as a dictionary\n",
        "node_pos = {}\n",
        "for node in list_nodes:\n",
        "    node_pos[node] = (int(node%grid[0]), -int(node/grid[1]))\n",
        "\n",
        "# edge cost as a dictionary\n",
        "edge_cost = {}\n",
        "for i, edge in enumerate(list(opt_model.model.edges)):\n",
        "    edge_cost[edge] = \"{:.2f}\".format(cost[i])\n",
        "\n",
        "# selected nodes as a list\n",
        "sol_nodes = []\n",
        "for i, j in sol_edges:\n",
        "    if i not in sol_nodes:\n",
        "        sol_nodes.append(i)\n",
        "    if j not in sol_nodes:\n",
        "        sol_nodes.append(j)\n",
        "\n",
        "# if the node is in the shortest path, set it to red, else set it to yellow\n",
        "node_col = ['yellow' if not node in sol_nodes else 'red' for node in list_nodes]\n",
        "\n",
        "# If the edge is in the shortest path set it to red, else set it to black\n",
        "edge_col = ['black' if not edge in sol_edges else 'red' for edge in list(opt_model.model.edges)]\n",
        "\n",
        "# draw the nodes\n",
        "nx.draw_networkx(opt_model.model, node_pos, node_color= node_col, node_size=200, font_size=8)\n",
        "\n",
        "# draw the edges\n",
        "nx.draw_networkx_edges(opt_model.model, node_pos, edge_color = edge_col)\n",
        "\n",
        "# draw the edge labels\n",
        "nx.draw_networkx_edge_labels(opt_model.model, node_pos, edge_labels=edge_cost, font_size=8)\n",
        "\n",
        "# show the plot\n",
        "plt.axis('off')\n",
        "plt.figure(1, figsize=(200, 200))\n",
        "plt.show()"
      ],
      "metadata": {
        "colab": {
          "base_uri": "https://localhost:8080/",
          "height": 0
        },
        "id": "dxoLHPaaLGAc",
        "outputId": "6f5a5126-ed87-4324-d0cf-6ed3e7a60bcf"
      },
      "execution_count": 115,
      "outputs": [
        {
          "output_type": "display_data",
          "data": {
            "text/plain": [
              "<Figure size 432x288 with 1 Axes>"
            ],
            "image/png": "[encoded data removed]"
          },
          "metadata": {}
        }
      ]
    },
    {
      "cell_type": "markdown",
      "source": [
        "# Define the SPO+ loss function"
      ],
      "metadata": {
        "id": "Ncu_T8FlsCL3"
      }
    },
    {
      "cell_type": "markdown",
      "source": [
        "## Test code for one example"
      ],
      "metadata": {
        "id": "9nnjnFmb1EGy"
      }
    },
    {
      "cell_type": "code",
      "source": [
        "from torch.autograd import Function\n",
        "\n",
        "class SPOPlusFunc(Function):\n",
        "    # decorate as static method that belongs to the class only\n",
        "    @staticmethod\n",
        "    # forward pass for SPO+\n",
        "    def forward(ctx, pred_cost, true_cost, true_sol, true_obj,\n",
        "                optmodel):\n",
        "        # obtain SPO+ loss and suggested traveling path by solving an optimization model \n",
        "        sol, loss = solve_in_forward(pred_cost, true_cost, true_sol, true_obj, optmodel)\n",
        "        # convert to tensor\n",
        "        loss = np.array(loss)      \n",
        "        loss = torch.FloatTensor(loss)\n",
        "        sol = np.array(sol)\n",
        "        sol = torch.FloatTensor(sol)\n",
        "        # save solutions for backward pass\n",
        "        ctx.save_for_backward(true_sol, sol)\n",
        "        # add other objects to ctx\n",
        "        ctx.optmodel = optmodel\n",
        "        return loss\n",
        "\n",
        "    @staticmethod\n",
        "    # backward pass for SPO+\n",
        "    def backward(ctx, grad_output):\n",
        "        # extract saved objects from forward()\n",
        "        w, wq = ctx.saved_tensors\n",
        "        optmodel = ctx.optmodel\n",
        "        # calculate the analytical subgradient in closed-form\n",
        "        grad = 2 * (w - wq)\n",
        "        # multiply the gradient wrt input with gradient wrt output using the chain rule\n",
        "        return grad_output * grad, None, None, None, None\n",
        "\n",
        "# function to solve optimization in the forward pass\n",
        "def solve_in_forward(cp, c, w, z, optmodel):\n",
        "    cp = np.array(cp)\n",
        "    c = np.array(c)\n",
        "    # use the new cost 2*pred_cost-true_cost in the optimization model\n",
        "    new_cost = 2 * cp - c\n",
        "    # shifting all edge costs upwards to make them positive, or zero\n",
        "    if np.min(new_cost)<0:\n",
        "        new_cost = new_cost + np.abs(np.min(new_cost))\n",
        "    # assign the new cost to the optimization model instance\n",
        "    optmodel.setObj(new_cost)\n",
        "    # perform optimization to obtain optimal traveling solution and total cost\n",
        "    solq, objq = optmodel.solve()\n",
        "    # calculate SPO+ loss\n",
        "    loss = -objq + 2 * np.dot(cp, w) - z\n",
        "    \n",
        "    return solq, loss\n"
      ],
      "metadata": {
        "id": "SseRLAcfpkmC"
      },
      "execution_count": 116,
      "outputs": []
    },
    {
      "cell_type": "code",
      "source": [
        "from torch import nn\n",
        "\n",
        "class SPOPlus(nn.Module):\n",
        "    def __init__(self, optmodel, dataset=None):\n",
        "        super().__init__()\n",
        "        self.optmodel = optmodel\n",
        "        self.spop = SPOPlusFunc()\n",
        "\n",
        "    def forward(self, pred_cost, true_cost, true_sol, true_obj):\n",
        "        loss = self.spop.apply(pred_cost, true_cost, true_sol, true_obj,\n",
        "                               self.optmodel)\n",
        "        return loss\n"
      ],
      "metadata": {
        "id": "JKdK_MbxuXYV"
      },
      "execution_count": 117,
      "outputs": []
    },
    {
      "cell_type": "code",
      "source": [
        "spop = SPOPlus(opt_model)\n",
        "pred_cost = [random.random() for _ in range(opt_model.get_num_cost())]\n",
        "loss = spop(pred_cost, cost, sol, obj)\n",
        "loss"
      ],
      "metadata": {
        "colab": {
          "base_uri": "https://localhost:8080/"
        },
        "id": "KrtsWE9huYP_",
        "outputId": "4af63c30-9d1a-46c2-d42f-622bef6ae660"
      },
      "execution_count": 118,
      "outputs": [
        {
          "output_type": "execute_result",
          "data": {
            "text/plain": [
              "tensor(2.1182)"
            ]
          },
          "metadata": {},
          "execution_count": 118
        }
      ]
    },
    {
      "cell_type": "markdown",
      "source": [
        "# End-to-end training"
      ],
      "metadata": {
        "id": "Rih8Y71EGlZg"
      }
    },
    {
      "cell_type": "markdown",
      "source": [
        "## Prepare training data"
      ],
      "metadata": {
        "id": "Ps_4bqGyG1ry"
      }
    },
    {
      "cell_type": "code",
      "source": [
        "# synthetic data for shortest path problem\n",
        "def genData(num_data, num_features, grid, deg=1, noise_width=0, seed=8):\n",
        "    # set seed\n",
        "    np.random.seed(seed)\n",
        "    # number of data instances\n",
        "    n = num_data\n",
        "    # dimension of contextual features\n",
        "    p = num_features\n",
        "    # dimension of the cost vector\n",
        "    d = (grid[0] - 1) * grid[1] + (grid[1] - 1) * grid[0]\n",
        "    # random matrix parameter B for the coefficients to be learned by prediction model\n",
        "    B = np.random.binomial(1, 0.5, (d, p))\n",
        "    # contextual feature vectors\n",
        "    x = np.random.normal(0, 1, (n, p))\n",
        "    # cost vectors\n",
        "    c = np.zeros((n, d))\n",
        "    # iteratively generate edge costs for each instance\n",
        "    for i in range(n):\n",
        "        # cost without noise\n",
        "        ci = (np.dot(B, x[i].reshape(p, 1)).T / np.sqrt(p) + 3) ** deg + 1\n",
        "        # rescale\n",
        "        ci /= 3.5 ** deg\n",
        "        # noise based on the specified half width of the noise term\n",
        "        epislon = np.random.uniform(1 - noise_width, 1 + noise_width, d)\n",
        "        # apply the multiplicative noise\n",
        "        ci *= epislon\n",
        "        c[i, :] = ci\n",
        "\n",
        "    return x, c"
      ],
      "metadata": {
        "id": "sv12ssKIzDp1"
      },
      "execution_count": 119,
      "outputs": []
    },
    {
      "cell_type": "code",
      "source": [
        "n = 2000 # number of instances\n",
        "p = 5 # number of feature\n",
        "deg = 4 # polynomial degree\n",
        "# generate data for grid network (features and costs)\n",
        "feats, costs = genData(n, p, grid, deg=deg)"
      ],
      "metadata": {
        "id": "ROwIKcPuHhXD"
      },
      "execution_count": 120,
      "outputs": []
    },
    {
      "cell_type": "code",
      "source": [
        "# features\n",
        "print(feats.shape)\n",
        "print(feats)"
      ],
      "metadata": {
        "colab": {
          "base_uri": "https://localhost:8080/"
        },
        "id": "C5sanf81HiUL",
        "outputId": "047b2d74-807f-4ec6-f95e-bd2109746494"
      },
      "execution_count": 121,
      "outputs": [
        {
          "output_type": "stream",
          "name": "stdout",
          "text": [
            "(2000, 5)\n",
            "[[-0.06074935 -2.43448243 -0.33098673  0.47264138 -0.88516841]\n",
            " [-0.94402646  0.73457354  2.64294292  0.61175799  0.65766052]\n",
            " [ 0.04604598  0.77026263  0.59305273 -0.93344358  0.37543325]\n",
            " ...\n",
            " [-0.29687019  0.45511836 -0.15959018 -0.76549628 -0.76148503]\n",
            " [-0.65785543  1.28125324  1.29164287  1.30754294  0.15057219]\n",
            " [ 0.17258779 -0.96249999  0.65382263 -0.08534153  2.07169298]]\n"
          ]
        }
      ]
    },
    {
      "cell_type": "code",
      "source": [
        "# cost coefficients\n",
        "print(costs.shape)\n",
        "print(costs)"
      ],
      "metadata": {
        "colab": {
          "base_uri": "https://localhost:8080/"
        },
        "id": "NfyNIRqyIHWm",
        "outputId": "34a8a3d8-a4c9-4ea4-e32d-299e790fbc90"
      },
      "execution_count": 122,
      "outputs": [
        {
          "output_type": "stream",
          "name": "stdout",
          "text": [
            "(2000, 40)\n",
            "[[0.10251377 0.71540904 0.04528587 ... 0.3131322  0.13514926 0.54643898]\n",
            " [2.41890772 0.77194872 3.13833656 ... 0.79132604 0.68804576 0.54643898]\n",
            " [0.71670343 0.30309493 0.8771718  ... 0.67780377 0.50971399 0.54643898]\n",
            " ...\n",
            " [0.33881288 0.33911308 0.19856029 ... 0.34001158 0.37596391 0.54643898]\n",
            " [2.59918666 1.10709736 2.76003191 ... 0.59655836 1.49147361 0.54643898]\n",
            " [0.47862104 0.51949072 1.43678064 ... 1.59062852 0.31522479 0.54643898]]\n"
          ]
        }
      ]
    },
    {
      "cell_type": "code",
      "source": [
        "# split train test data\n",
        "from sklearn.model_selection import train_test_split\n",
        "x_train, x_test, c_train, c_test = train_test_split(feats, costs, test_size=1000, random_state=SEED)"
      ],
      "metadata": {
        "id": "jRosRlq6cTCx"
      },
      "execution_count": 123,
      "outputs": []
    },
    {
      "cell_type": "markdown",
      "source": [
        "## Prepare dataloader"
      ],
      "metadata": {
        "id": "CHClVxZnUO5K"
      }
    },
    {
      "cell_type": "code",
      "source": [
        "# optDataset class based on PyTorch Dataset\n",
        "from torch.utils.data import Dataset\n",
        "from tqdm import tqdm\n",
        "\n",
        "# build a Torch Dataset class for the optimization problems\n",
        "class optDataset(Dataset):\n",
        "    def __init__(self, model, feats, costs):\n",
        "        self.model = model # an instance of the optimization model\n",
        "        self.feats = feats # contextual input features\n",
        "        self.costs = costs # cost vectors for the objective function\n",
        "        # find optimal solutions\n",
        "        self.sols, self.objs = self.getSols()\n",
        "\n",
        "    # a method to get optimal solutions for all cost vectors\n",
        "    def getSols(self):\n",
        "        sols = []\n",
        "        objs = []\n",
        "        # iterate through all instances\n",
        "        for c in tqdm(self.costs):\n",
        "            sol, obj = self.solve(c)\n",
        "            sols.append(sol)\n",
        "            objs.append([obj])\n",
        "        return np.array(sols), np.array(objs)\n",
        "\n",
        "    # solve optimization problem to get an optimal solution with given cost\n",
        "    def solve(self, cost):\n",
        "        self.model.setObj(cost)\n",
        "        sol, obj = self.model.solve()\n",
        "        return sol, obj\n",
        "\n",
        "    # a method to get data size, i.e., the number of optimization instances\n",
        "    def __len__(self):\n",
        "        return len(self.costs)\n",
        "\n",
        "    # a method to retrieve data tuple, including features, costs, optimal solutions and objective values\n",
        "    def __getitem__(self, index):\n",
        "        return (\n",
        "            torch.FloatTensor(self.feats[index]),\n",
        "            torch.FloatTensor(self.costs[index]),\n",
        "            torch.FloatTensor(self.sols[index]),\n",
        "            torch.FloatTensor(self.objs[index]),\n",
        "        )"
      ],
      "metadata": {
        "id": "yKq6zAcUIZ-2"
      },
      "execution_count": 124,
      "outputs": []
    },
    {
      "cell_type": "code",
      "source": [
        "# get optDataest by computing optimal solution for each cost vector\n",
        "dataset_train = optDataset(opt_model, x_train, c_train)\n",
        "dataset_test = optDataset(opt_model, x_test, c_test)"
      ],
      "metadata": {
        "colab": {
          "base_uri": "https://localhost:8080/"
        },
        "id": "HBmoMojQKYEi",
        "outputId": "e211c2a3-a173-444e-b3d6-122d624e0281"
      },
      "execution_count": 125,
      "outputs": [
        {
          "output_type": "stream",
          "name": "stderr",
          "text": [
            "100%|██████████| 1000/1000 [00:00<00:00, 3596.83it/s]\n",
            "100%|██████████| 1000/1000 [00:00<00:00, 6475.92it/s]\n"
          ]
        }
      ]
    },
    {
      "cell_type": "code",
      "source": [
        "# get data loader\n",
        "from torch.utils.data import DataLoader\n",
        "batch_size = 32\n",
        "loader_train = DataLoader(dataset_train, batch_size=batch_size, shuffle=True)\n",
        "loader_test = DataLoader(dataset_test, batch_size=batch_size, shuffle=False)"
      ],
      "metadata": {
        "id": "_OsLk1i6KhLM"
      },
      "execution_count": 126,
      "outputs": []
    },
    {
      "cell_type": "markdown",
      "source": [
        "## Single layer linear model"
      ],
      "metadata": {
        "id": "Y7A4y8PYNTD7"
      }
    },
    {
      "cell_type": "code",
      "source": [
        "# build linear model\n",
        "class LinearRegression(nn.Module):\n",
        "    def __init__(self):\n",
        "        super(LinearRegression, self).__init__()\n",
        "        self.linear = nn.Linear(p, (grid[0] - 1) * grid[1] + (grid[1] - 1) * grid[0])\n",
        "    \n",
        "    def forward(self, x):\n",
        "        out = self.linear(x)\n",
        "        return out"
      ],
      "metadata": {
        "id": "d_4_qvWANPGH"
      },
      "execution_count": 127,
      "outputs": []
    },
    {
      "cell_type": "code",
      "source": [
        "# initialize model\n",
        "reg = LinearRegression()\n",
        "# use cuda if available\n",
        "if torch.cuda.is_available():\n",
        "    reg = reg.cuda()"
      ],
      "metadata": {
        "id": "WjcM7ef5rXkt"
      },
      "execution_count": 128,
      "outputs": []
    },
    {
      "cell_type": "code",
      "source": [
        "# set optimizer\n",
        "optimizer = torch.optim.Adam(reg.parameters(), lr=1e-2)"
      ],
      "metadata": {
        "id": "qRerTSWGrbMy"
      },
      "execution_count": 129,
      "outputs": []
    },
    {
      "cell_type": "markdown",
      "source": [
        "## Training with SPO+ loss"
      ],
      "metadata": {
        "id": "7gF5UJ1tNiG8"
      }
    },
    {
      "cell_type": "code",
      "source": [
        "class SPOPlus(nn.Module):\n",
        "    def __init__(self, optmodel, solve_ratio=1, dataset=None):\n",
        "        super().__init__()\n",
        "        # optimization model\n",
        "        self.optmodel = optmodel\n",
        "        # solution pool\n",
        "        self.solve_ratio = solve_ratio\n",
        "        self.solpool = None\n",
        "        # build carterion\n",
        "        self.spop = SPOPlusFunc()\n",
        "\n",
        "    def forward(self, pred_cost, true_cost, true_sol, true_obj):\n",
        "        loss = self.spop.apply(pred_cost, true_cost, true_sol, true_obj,\n",
        "                               self.optmodel, self.solve_ratio,\n",
        "                               self)\n",
        "        return loss\n",
        "\n",
        "class SPOPlusFunc(Function):\n",
        "    @staticmethod\n",
        "    def forward(ctx, pred_cost, true_cost, true_sol, true_obj,\n",
        "                optmodel, solve_ratio, module):\n",
        "        # get device\n",
        "        device = pred_cost.device\n",
        "        # convert tenstor\n",
        "        cp = pred_cost.detach().to(\"cpu\").numpy()\n",
        "        c = true_cost.detach().to(\"cpu\").numpy()\n",
        "        w = true_sol.detach().to(\"cpu\").numpy()\n",
        "        z = true_obj.detach().to(\"cpu\").numpy()\n",
        "        # solve\n",
        "        sol, loss = _solve_in_forward(cp, c, w, z, optmodel)\n",
        "        if solve_ratio < 1:\n",
        "            module.solpool = np.concatenate((module.solpool, sol))\n",
        "\n",
        "        loss = np.array(loss)\n",
        "        # convert to tensor\n",
        "        loss = torch.FloatTensor(loss).to(device)\n",
        "        sol = np.array(sol)\n",
        "        sol = torch.FloatTensor(sol).to(device)\n",
        "        # save solutions\n",
        "        ctx.save_for_backward(true_sol, sol)\n",
        "        # add other objects to ctx\n",
        "        ctx.optmodel = optmodel\n",
        "        return loss\n",
        "\n",
        "    @staticmethod\n",
        "    def backward(ctx, grad_output):\n",
        "        \"\"\"\n",
        "        Backward pass for SPO+\n",
        "        \"\"\"\n",
        "        w, wq = ctx.saved_tensors\n",
        "        optmodel = ctx.optmodel\n",
        "        grad = 2 * (w - wq)\n",
        "        \n",
        "        return grad_output * grad, None, None, None, None, None, None, None\n",
        "\n",
        "\n",
        "def _solve_in_forward(cp, c, w, z, optmodel):\n",
        "    \"\"\"\n",
        "    A function to solve optimization in the forward pass\n",
        "    \"\"\"\n",
        "    # number of instance\n",
        "    ins_num = len(z)\n",
        "    # single-core\n",
        "\n",
        "    loss = []\n",
        "    sol = []\n",
        "    for i in range(ins_num):\n",
        "        new_cost = 2 * cp[i] - c[i]\n",
        "        if np.min(new_cost)<0:\n",
        "            new_cost = new_cost + np.abs(np.min(new_cost))\n",
        "        optmodel.setObj(new_cost)\n",
        "\n",
        "        # solve\n",
        "        solq, objq = optmodel.solve()\n",
        "        objq -= len(solq)*np.abs(np.min(new_cost))\n",
        "        # calculate loss\n",
        "        loss.append(objq + 2 * np.dot(cp[i], w[i]) - z[i])\n",
        "        # solution\n",
        "        sol.append(solq)\n",
        "    \n",
        "    return sol, loss\n"
      ],
      "metadata": {
        "id": "_ip2K1Ec4knM"
      },
      "execution_count": 130,
      "outputs": []
    },
    {
      "cell_type": "code",
      "source": [
        "spop = SPOPlus(opt_model)"
      ],
      "metadata": {
        "id": "mIRzV0zKNtr-"
      },
      "execution_count": 131,
      "outputs": []
    },
    {
      "cell_type": "code",
      "source": [
        "def regret(predmodel, optmodel, dataloader):\n",
        "    # set to evaluation mode\n",
        "    predmodel.eval()\n",
        "    loss = 0\n",
        "    optsum = 0\n",
        "    # load data\n",
        "    for data in dataloader:\n",
        "        x, c, w, z = data\n",
        "        # pass to cuda if available\n",
        "        if next(predmodel.parameters()).is_cuda:\n",
        "            x, c, w, z = x.cuda(), c.cuda(), w.cuda(), z.cuda()\n",
        "        # predict for test set without gradient\n",
        "        with torch.no_grad():\n",
        "            cp = predmodel(x).to(\"cpu\").detach().numpy()\n",
        "        # solve\n",
        "        for j in range(cp.shape[0]):\n",
        "            # accumulate loss for all instances in a batch\n",
        "            loss += calRegret(optmodel, cp[j], c[j].to(\"cpu\").detach().numpy(),\n",
        "                              z[j].item())\n",
        "        optsum += abs(z).sum().item()\n",
        "    # turn back to training mode\n",
        "    predmodel.train()\n",
        "    # calculate regret as percentage loss\n",
        "    return loss / (optsum + 1e-7)\n",
        "\n",
        "def calRegret(optmodel, pred_cost, true_cost, true_obj):\n",
        "    new_cost_pred = pred_cost\n",
        "    # make all edge costs positive\n",
        "    if np.min(new_cost_pred)<0:\n",
        "        new_cost_pred = new_cost_pred + np.abs(np.min(new_cost_pred))\n",
        "    # opt sol for pred cost\n",
        "    optmodel.setObj(new_cost_pred)\n",
        "    sol, _ = optmodel.solve()\n",
        "    # obj with true cost\n",
        "    obj = np.dot(sol, true_cost)\n",
        "    loss = obj - true_obj\n",
        "    return loss"
      ],
      "metadata": {
        "id": "srCPQSVgOBBO"
      },
      "execution_count": 132,
      "outputs": []
    },
    {
      "cell_type": "code",
      "source": [
        "num_epochs = 30\n",
        "# switch the model to training mode\n",
        "reg.train()\n",
        "# store training set loss per batch\n",
        "loss_log = []\n",
        "# store test set regret per epoch\n",
        "loss_log_regret = [regret(reg, opt_model, loader_test)]\n",
        "for epoch in range(num_epochs):\n",
        "    # load data in batches\n",
        "    for i, data in enumerate(loader_train):\n",
        "        # prepare the necessary ingredients\n",
        "        x, c, w, z = data\n",
        "        # pass to cuda if available\n",
        "        if torch.cuda.is_available():\n",
        "            x, c, w, z = x.cuda(), c.cuda(), w.cuda(), z.cuda()\n",
        "        # forward pass\n",
        "        cp = reg(x)\n",
        "        # calculate SPO+ loss and take average for the whole batch\n",
        "        loss = spop(cp, c, w, z).mean()\n",
        "        # backward pass\n",
        "        optimizer.zero_grad()\n",
        "        loss.backward()\n",
        "        # weight update via SGD\n",
        "        optimizer.step()\n",
        "        loss_log.append(loss.item())\n",
        "    epoch_regret = regret(reg, opt_model, loader_test)\n",
        "    loss_log_regret.append(epoch_regret)\n",
        "    print(\"Epoch {:3}, Loss: {:8.4f}, Regret: {:7.4f}%\".format(epoch+1, loss.item(), epoch_regret*100))"
      ],
      "metadata": {
        "colab": {
          "base_uri": "https://localhost:8080/"
        },
        "id": "uNQYaBh_N5jg",
        "outputId": "cf8514c5-f66c-48b2-dbfe-c93da69a344e"
      },
      "execution_count": 133,
      "outputs": [
        {
          "output_type": "stream",
          "name": "stdout",
          "text": [
            "Epoch   1, Loss:   8.4030, Regret:  4.2614%\n",
            "Epoch   2, Loss:   9.5383, Regret:  1.0153%\n",
            "Epoch   3, Loss:   6.0231, Regret:  0.7958%\n",
            "Epoch   4, Loss:   8.9473, Regret:  0.6789%\n",
            "Epoch   5, Loss:   7.6970, Regret:  0.7645%\n",
            "Epoch   6, Loss:   5.1468, Regret:  0.6890%\n",
            "Epoch   7, Loss:   6.1203, Regret:  0.8461%\n",
            "Epoch   8, Loss:   4.5006, Regret:  0.7280%\n",
            "Epoch   9, Loss:   4.7199, Regret:  0.6893%\n",
            "Epoch  10, Loss:   5.0105, Regret:  0.8014%\n",
            "Epoch  11, Loss:   6.9947, Regret:  0.7394%\n",
            "Epoch  12, Loss:   3.1332, Regret:  0.7382%\n",
            "Epoch  13, Loss:   3.1318, Regret:  0.6611%\n",
            "Epoch  14, Loss:   2.7798, Regret:  0.7916%\n",
            "Epoch  15, Loss:   4.8360, Regret:  0.6132%\n",
            "Epoch  16, Loss:   4.6173, Regret:  0.6179%\n",
            "Epoch  17, Loss:   6.8318, Regret:  0.6555%\n",
            "Epoch  18, Loss:   2.2899, Regret:  0.8415%\n",
            "Epoch  19, Loss:   2.8346, Regret:  0.6690%\n",
            "Epoch  20, Loss:   3.7003, Regret:  0.6730%\n",
            "Epoch  21, Loss:   2.8920, Regret:  0.6720%\n",
            "Epoch  22, Loss:   6.2224, Regret:  0.6911%\n",
            "Epoch  23, Loss:   3.6971, Regret:  0.6218%\n",
            "Epoch  24, Loss:   3.3770, Regret:  0.7525%\n",
            "Epoch  25, Loss:   5.0514, Regret:  0.6300%\n",
            "Epoch  26, Loss:   4.1120, Regret:  0.5901%\n",
            "Epoch  27, Loss:   6.1221, Regret:  0.7577%\n",
            "Epoch  28, Loss:   0.5584, Regret:  0.6151%\n",
            "Epoch  29, Loss:   2.5644, Regret:  0.6104%\n",
            "Epoch  30, Loss:   2.8218, Regret:  0.5737%\n"
          ]
        }
      ]
    },
    {
      "cell_type": "code",
      "source": [
        "# plot training loss per iteration\n",
        "plt.figure(figsize=(8, 4))\n",
        "plt.plot(loss_log, color=\"c\", lw=2)\n",
        "plt.xticks(fontsize=14)\n",
        "plt.yticks(fontsize=14)\n",
        "plt.xlabel(\"Iterations\", fontsize=18)\n",
        "plt.ylabel(\"SPO+ loss\", fontsize=18)\n",
        "plt.title(\"SPO+ loss on the training set\", fontsize=18)\n",
        "plt.show()"
      ],
      "metadata": {
        "colab": {
          "base_uri": "https://localhost:8080/",
          "height": 311
        },
        "id": "2E1AINvvOT3b",
        "outputId": "20490b54-19dc-47f7-8ce5-d33bcb098f3d"
      },
      "execution_count": 134,
      "outputs": [
        {
          "output_type": "display_data",
          "data": {
            "text/plain": [
              "<Figure size 576x288 with 1 Axes>"
            ],
            "image/png": "[encoded data removed]"
          },
          "metadata": {
            "needs_background": "light"
          }
        }
      ]
    },
    {
      "cell_type": "code",
      "source": [
        "# plot the regret on test set\n",
        "fig = plt.figure(figsize=(8, 4))\n",
        "plt.plot(range(num_epochs+1), loss_log_regret, color=\"red\", ls=\"--\", alpha=0.7, lw=2)\n",
        "plt.xticks(range(0, num_epochs+1, 2), fontsize=14)\n",
        "plt.yticks(fontsize=14)\n",
        "plt.ylim(0, 0.8)\n",
        "plt.xlabel(\"Epochs\", fontsize=18)\n",
        "plt.ylabel(\"Regret\", fontsize=18)\n",
        "plt.title(\"Regret on the test set\", fontsize=18)\n",
        "plt.show()"
      ],
      "metadata": {
        "colab": {
          "base_uri": "https://localhost:8080/",
          "height": 311
        },
        "id": "W0nr0Fec56uy",
        "outputId": "965fdaaa-31b8-4d65-fd78-575eaef67362"
      },
      "execution_count": 135,
      "outputs": [
        {
          "output_type": "display_data",
          "data": {
            "text/plain": [
              "<Figure size 576x288 with 1 Axes>"
            ],
            "image/png": "[encoded data removed]"
          },
          "metadata": {
            "needs_background": "light"
          }
        }
      ]
    },
    {
      "cell_type": "code",
      "source": [
        "loss_log_regret"
      ],
      "metadata": {
        "colab": {
          "base_uri": "https://localhost:8080/"
        },
        "id": "SeUZr92w589E",
        "outputId": "336bcbcc-6069-491e-c894-7762191d5cc6"
      },
      "execution_count": 136,
      "outputs": [
        {
          "output_type": "execute_result",
          "data": {
            "text/plain": [
              "[0.6937563955901297,\n",
              " 0.04261393545177128,\n",
              " 0.010153107747665894,\n",
              " 0.007957828310161558,\n",
              " 0.0067889393484323705,\n",
              " 0.007645168854529444,\n",
              " 0.006889530586759311,\n",
              " 0.008460851904580916,\n",
              " 0.0072797766456474825,\n",
              " 0.006893452595086768,\n",
              " 0.008013507946985896,\n",
              " 0.007394427302660634,\n",
              " 0.007382405346681048,\n",
              " 0.00661078729018553,\n",
              " 0.007915513396689004,\n",
              " 0.006131705485279496,\n",
              " 0.006179050419415371,\n",
              " 0.006554917508516889,\n",
              " 0.008415154746665062,\n",
              " 0.006689675228704078,\n",
              " 0.0067304246105847725,\n",
              " 0.006719885081221459,\n",
              " 0.00691122595156663,\n",
              " 0.0062183663969712834,\n",
              " 0.007524793048132227,\n",
              " 0.006300259985744753,\n",
              " 0.005901436139799561,\n",
              " 0.0075765153086522225,\n",
              " 0.006151442208634412,\n",
              " 0.006104034944349521,\n",
              " 0.005736620529723018]"
            ]
          },
          "metadata": {},
          "execution_count": 136
        }
      ]
    },
    {
      "cell_type": "code",
      "source": [],
      "metadata": {
        "id": "GF1eL40vBsFi"
      },
      "execution_count": 136,
      "outputs": []
    }
  ]
}