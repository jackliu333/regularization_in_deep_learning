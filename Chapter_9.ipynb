{
  "nbformat": 4,
  "nbformat_minor": 0,
  "metadata": {
    "colab": {
      "provenance": [],
      "collapsed_sections": [
        "qX-e0MkZBC52",
        "2aa0mFLEBAz6"
      ],
      "authorship_tag": "ABX9TyOuKsC+mmUkNCkiNTt2CEsj"
    },
    "kernelspec": {
      "name": "python3",
      "display_name": "Python 3"
    },
    "language_info": {
      "name": "python"
    }
  },
  "cells": [
    {
      "cell_type": "code",
      "execution_count": 1,
      "metadata": {
        "colab": {
          "base_uri": "https://localhost:8080/"
        },
        "id": "psjAnMXKzFgx",
        "outputId": "3e3b6399-6627-4a46-d36a-f55447759059"
      },
      "outputs": [
        {
          "output_type": "stream",
          "name": "stdout",
          "text": [
            "Looking in indexes: https://pypi.org/simple, https://us-python.pkg.dev/colab-wheels/public/simple/\n",
            "Requirement already satisfied: networkx in /usr/local/lib/python3.8/dist-packages (2.8.8)\n"
          ]
        }
      ],
      "source": [
        "!pip install networkx"
      ]
    },
    {
      "cell_type": "code",
      "source": [
        "import networkx as nx\n",
        "import numpy as np\n",
        "import torch\n",
        "import random\n",
        "import matplotlib.pyplot as plt\n",
        "\n",
        "SEED = 8\n",
        "torch.manual_seed(SEED)\n",
        "random.seed(SEED)\n",
        "np.random.seed(SEED)"
      ],
      "metadata": {
        "id": "VKNKyerozqRq"
      },
      "execution_count": 2,
      "outputs": []
    },
    {
      "cell_type": "markdown",
      "source": [
        "# Define the shortest path model class"
      ],
      "metadata": {
        "id": "qX-e0MkZBC52"
      }
    },
    {
      "cell_type": "code",
      "source": [
        "class ShortestPathModel():\n",
        "\n",
        "    def __init__(self, grid):\n",
        "        # grid (tuple): size of grid network\n",
        "        self.grid = grid\n",
        "        # arcs/edges of the network\n",
        "        self.arcs = self.getArcs()\n",
        "        # creating a network model and its associated edges\n",
        "        self.model, self.edges = self.getModel()\n",
        "        # number of edges with cost\n",
        "        self.num_cost = self.get_num_cost()\n",
        "\n",
        "    # method to get the list of arcs/edges for the grid network\n",
        "    def getArcs(self):\n",
        "        arcs = []\n",
        "        for i in range(self.grid[0]):\n",
        "            # edges along the rows\n",
        "            for j in range(self.grid[1] - 1):\n",
        "                v = i * self.grid[1] + j\n",
        "                arcs.append((v, v + 1))\n",
        "            # edges along the columns\n",
        "            if i == self.grid[0] - 1:\n",
        "                # no downward column connection at the last row\n",
        "                continue \n",
        "            for j in range(self.grid[1]):\n",
        "                v = i * self.grid[1] + j\n",
        "                arcs.append((v, v + self.grid[1]))\n",
        "        return arcs\n",
        "\n",
        "    # build an optimization model\n",
        "    def getModel(self):\n",
        "        # build graph as optimization model\n",
        "        g = nx.Graph()\n",
        "        # add arcs as variables\n",
        "        g.add_edges_from(self.arcs, cost=0)\n",
        "        return g, g.edges\n",
        "\n",
        "    # set the optimization objective to minimize the total cost\n",
        "    def setObj(self, costs):\n",
        "        for i, e in enumerate(self.arcs):\n",
        "            self.model.edges[e][\"cost\"] = costs[i]\n",
        "\n",
        "    # obtain the optimal solution and objective value\n",
        "    def solve(self):\n",
        "        # solve using dijkstra algorithm\n",
        "        path = nx.shortest_path(self.model, weight=\"cost\", source=0, target=self.grid[0]*self.grid[1]-1)\n",
        "        # convert path into active edges\n",
        "        edges = []\n",
        "        u = 0\n",
        "        for v in path[1:]:\n",
        "            edges.append((u,v))\n",
        "            u = v\n",
        "        # initial solution and objective\n",
        "        sol = np.zeros(self.num_cost)\n",
        "        obj = 0\n",
        "        # convert active edges into solution and obj\n",
        "        for i, e in enumerate(self.arcs):\n",
        "            if e in edges:\n",
        "                # active edge\n",
        "                sol[i] = 1 \n",
        "                # cost of active edge\n",
        "                obj += self.model.edges[e][\"cost\"] \n",
        "        return sol, obj\n",
        "    \n",
        "    # count the number of edges in the network\n",
        "    def get_num_cost(self):\n",
        "        # this is also the number of costs to be predicted\n",
        "        return len(self.arcs)"
      ],
      "metadata": {
        "id": "bsCT3acIztMq"
      },
      "execution_count": 3,
      "outputs": []
    },
    {
      "cell_type": "code",
      "source": [
        "grid = (3,3)\n",
        "opt_model = ShortestPathModel(grid=grid)"
      ],
      "metadata": {
        "id": "dsgkPzew_4Vv"
      },
      "execution_count": 4,
      "outputs": []
    },
    {
      "cell_type": "code",
      "source": [
        "opt_model.getArcs()"
      ],
      "metadata": {
        "colab": {
          "base_uri": "https://localhost:8080/"
        },
        "id": "C5mIPK2QAAV0",
        "outputId": "1648bf87-13e3-46b5-c171-d636554f0557"
      },
      "execution_count": 5,
      "outputs": [
        {
          "output_type": "execute_result",
          "data": {
            "text/plain": [
              "[(0, 1),\n",
              " (1, 2),\n",
              " (0, 3),\n",
              " (1, 4),\n",
              " (2, 5),\n",
              " (3, 4),\n",
              " (4, 5),\n",
              " (3, 6),\n",
              " (4, 7),\n",
              " (5, 8),\n",
              " (6, 7),\n",
              " (7, 8)]"
            ]
          },
          "metadata": {},
          "execution_count": 5
        }
      ]
    },
    {
      "cell_type": "code",
      "source": [
        "opt_model.get_num_cost()"
      ],
      "metadata": {
        "colab": {
          "base_uri": "https://localhost:8080/"
        },
        "id": "tmv4VlzaADCU",
        "outputId": "e74ec306-b9c1-433a-f2f5-386fe5802fcf"
      },
      "execution_count": 6,
      "outputs": [
        {
          "output_type": "execute_result",
          "data": {
            "text/plain": [
              "12"
            ]
          },
          "metadata": {},
          "execution_count": 6
        }
      ]
    },
    {
      "cell_type": "code",
      "source": [
        "# visualize the graph\n",
        "# unique nodes in the graph\n",
        "list_nodes = list(opt_model.model.nodes)\n",
        "\n",
        "# obtain coordinate for each node in the graph\n",
        "node_pos = {}\n",
        "for node in list_nodes:\n",
        "    node_pos[node] = (int(node%grid[0]), -int(node/grid[1]))\n",
        "\n",
        "# color the start and sink nodes red and rest yellow\n",
        "node_col = ['yellow' if not node in [list_nodes[0], list_nodes[-1]] else 'red' for node in list_nodes]\n",
        "# draw the graphical network\n",
        "nx.draw_networkx(opt_model.model, node_pos, node_color= node_col, node_size=500)"
      ],
      "metadata": {
        "colab": {
          "base_uri": "https://localhost:8080/",
          "height": 0
        },
        "id": "TocHLfhs5g4T",
        "outputId": "2e06a3a2-81b5-4531-82c0-e78cc684100c"
      },
      "execution_count": 7,
      "outputs": [
        {
          "output_type": "display_data",
          "data": {
            "text/plain": [
              "<Figure size 432x288 with 1 Axes>"
            ],
            "image/png": "[encoded data removed]"
          },
          "metadata": {}
        }
      ]
    },
    {
      "cell_type": "code",
      "source": [
        "# solving the 3x3 shortest path problem\n",
        "opt_model.setObj(costs=[1]*opt_model.get_num_cost())\n",
        "path = nx.shortest_path(opt_model.model, weight=\"cost\", source=0, target=opt_model.grid[0]*opt_model.grid[1]-1)"
      ],
      "metadata": {
        "id": "ota93gevd8qs"
      },
      "execution_count": 8,
      "outputs": []
    },
    {
      "cell_type": "code",
      "source": [
        "path"
      ],
      "metadata": {
        "colab": {
          "base_uri": "https://localhost:8080/"
        },
        "id": "s0ssStfC9TuI",
        "outputId": "4b0a2b27-dd56-489e-d437-b8e707177074"
      },
      "execution_count": 9,
      "outputs": [
        {
          "output_type": "execute_result",
          "data": {
            "text/plain": [
              "[0, 1, 2, 5, 8]"
            ]
          },
          "metadata": {},
          "execution_count": 9
        }
      ]
    },
    {
      "cell_type": "markdown",
      "source": [
        "# Run the model for 5x5 grid"
      ],
      "metadata": {
        "id": "2aa0mFLEBAz6"
      }
    },
    {
      "cell_type": "code",
      "source": [
        "# grid graph size\n",
        "grid = (5,5)\n",
        "\n",
        "# initialize the optimization model\n",
        "opt_model = ShortestPathModel(grid) \n",
        "\n",
        "# set random cost\n",
        "cost = [random.random() for _ in range(opt_model.get_num_cost())]\n",
        "\n",
        "# set objective function\n",
        "opt_model.setObj(cost) \n",
        "\n",
        "# solve the optimization model\n",
        "sol, obj = opt_model.solve()\n",
        "\n",
        "# store active edges\n",
        "sol_edges = []\n",
        "for i, e in enumerate(opt_model.arcs):\n",
        "    if sol[i] > 1e-3:\n",
        "        sol_edges.append(e)"
      ],
      "metadata": {
        "id": "z0x8Yo9kPSIm"
      },
      "execution_count": 10,
      "outputs": []
    },
    {
      "cell_type": "code",
      "source": [
        "print('Obj: {}'.format(obj))\n",
        "print(sol_edges)"
      ],
      "metadata": {
        "colab": {
          "base_uri": "https://localhost:8080/"
        },
        "id": "aY1EFwOCjSvY",
        "outputId": "1c6bc5b8-67ec-41dd-a193-a59f34363c27"
      },
      "execution_count": 11,
      "outputs": [
        {
          "output_type": "stream",
          "name": "stdout",
          "text": [
            "Obj: 1.9975628342989649\n",
            "[(0, 1), (1, 6), (6, 7), (7, 8), (8, 13), (13, 14), (14, 19), (19, 24)]\n"
          ]
        }
      ]
    },
    {
      "cell_type": "code",
      "source": [
        "# obtain unique node indices as a list\n",
        "list_nodes = list(opt_model.model.nodes)\n",
        "\n",
        "# positional encoding for each node as a dictionary\n",
        "node_pos = {}\n",
        "for node in list_nodes:\n",
        "    node_pos[node] = (int(node%grid[0]), -int(node/grid[1]))\n",
        "\n",
        "# edge cost as a dictionary\n",
        "edge_cost = {}\n",
        "for i, edge in enumerate(list(opt_model.model.edges)):\n",
        "    edge_cost[edge] = \"{:.2f}\".format(cost[i])\n",
        "\n",
        "# selected nodes as a list\n",
        "sol_nodes = []\n",
        "for i, j in sol_edges:\n",
        "    if i not in sol_nodes:\n",
        "        sol_nodes.append(i)\n",
        "    if j not in sol_nodes:\n",
        "        sol_nodes.append(j)\n",
        "\n",
        "# if the node is in the shortest path, set it to red, else set it to yellow\n",
        "node_col = ['yellow' if not node in sol_nodes else 'red' for node in list_nodes]\n",
        "\n",
        "# If the edge is in the shortest path set it to red, else set it to black\n",
        "edge_col = ['black' if not edge in sol_edges else 'red' for edge in list(opt_model.model.edges)]\n",
        "\n",
        "# draw the nodes\n",
        "nx.draw_networkx(opt_model.model, node_pos, node_color= node_col, node_size=200, font_size=8)\n",
        "\n",
        "# draw the edges\n",
        "nx.draw_networkx_edges(opt_model.model, node_pos, edge_color = edge_col)\n",
        "\n",
        "# draw the edge labels\n",
        "nx.draw_networkx_edge_labels(opt_model.model, node_pos, edge_labels=edge_cost, font_size=8)\n",
        "\n",
        "# show the plot\n",
        "plt.axis('off')\n",
        "plt.figure(1, figsize=(200, 200))\n",
        "plt.show()"
      ],
      "metadata": {
        "colab": {
          "base_uri": "https://localhost:8080/",
          "height": 0
        },
        "id": "dxoLHPaaLGAc",
        "outputId": "7a3a2c7c-8fb5-4232-c7f0-a23cc90a32f7"
      },
      "execution_count": 12,
      "outputs": [
        {
          "output_type": "display_data",
          "data": {
            "text/plain": [
              "<Figure size 432x288 with 1 Axes>"
            ],
            "image/png": "[encoded data removed]"
          },
          "metadata": {}
        }
      ]
    },
    {
      "cell_type": "markdown",
      "source": [
        "# Define the SPO+ loss function"
      ],
      "metadata": {
        "id": "Ncu_T8FlsCL3"
      }
    },
    {
      "cell_type": "markdown",
      "source": [
        "## Test code for one example"
      ],
      "metadata": {
        "id": "9nnjnFmb1EGy"
      }
    },
    {
      "cell_type": "code",
      "source": [
        "from torch.autograd import Function\n",
        "\n",
        "class SPOPlusFunc(Function):\n",
        "    # decorate as static method that belongs to the class only\n",
        "    @staticmethod\n",
        "    # forward pass for SPO+\n",
        "    def forward(ctx, pred_cost, true_cost, true_sol, true_obj,\n",
        "                optmodel):\n",
        "        # obtain SPO+ loss and suggested traveling path by solving an optimization model \n",
        "        sol, loss = solve_in_forward(pred_cost, true_cost, true_sol, true_obj, optmodel)\n",
        "        # convert to tensor\n",
        "        loss = np.array(loss)      \n",
        "        loss = torch.FloatTensor(loss)\n",
        "        sol = np.array(sol)\n",
        "        sol = torch.FloatTensor(sol)\n",
        "        # save solutions for backward pass\n",
        "        ctx.save_for_backward(true_sol, sol)\n",
        "        # add other objects to ctx\n",
        "        ctx.optmodel = optmodel\n",
        "        return loss\n",
        "\n",
        "    @staticmethod\n",
        "    # backward pass for SPO+\n",
        "    def backward(ctx, grad_output):\n",
        "        # extract saved objects from forward()\n",
        "        w, wq = ctx.saved_tensors\n",
        "        optmodel = ctx.optmodel\n",
        "        # calculate the analytical subgradient in closed-form\n",
        "        grad = 2 * (w - wq)\n",
        "        # multiply the gradient wrt input with gradient wrt output using the chain rule\n",
        "        return grad_output * grad, None, None, None, None\n",
        "\n",
        "# function to solve optimization in the forward pass\n",
        "def solve_in_forward(cp, c, w, z, optmodel):\n",
        "    cp = np.array(cp)\n",
        "    c = np.array(c)\n",
        "    # use the new cost 2*pred_cost-true_cost in the optimization model\n",
        "    new_cost = 2 * cp - c\n",
        "    # shifting all edge costs upwards to make them positive, or zero\n",
        "    if np.min(new_cost)<0:\n",
        "        new_cost = new_cost + np.abs(np.min(new_cost))\n",
        "    # assign the new cost to the optimization model instance\n",
        "    optmodel.setObj(new_cost)\n",
        "    # perform optimization to obtain optimal traveling solution and total cost\n",
        "    solq, objq = optmodel.solve()\n",
        "    # calculate SPO+ loss\n",
        "    loss = -objq + 2 * np.dot(cp, w) - z\n",
        "    \n",
        "    return solq, loss\n"
      ],
      "metadata": {
        "id": "SseRLAcfpkmC"
      },
      "execution_count": 13,
      "outputs": []
    },
    {
      "cell_type": "code",
      "source": [
        "from torch import nn\n",
        "\n",
        "class SPOPlus(nn.Module):\n",
        "    def __init__(self, optmodel, dataset=None):\n",
        "        super().__init__()\n",
        "        self.optmodel = optmodel\n",
        "        self.spop = SPOPlusFunc()\n",
        "\n",
        "    def forward(self, pred_cost, true_cost, true_sol, true_obj):\n",
        "        loss = self.spop.apply(pred_cost, true_cost, true_sol, true_obj,\n",
        "                               self.optmodel)\n",
        "        return loss\n"
      ],
      "metadata": {
        "id": "JKdK_MbxuXYV"
      },
      "execution_count": 14,
      "outputs": []
    },
    {
      "cell_type": "code",
      "source": [
        "spop = SPOPlus(opt_model)\n",
        "pred_cost = [random.random() for _ in range(opt_model.get_num_cost())]\n",
        "loss = spop(pred_cost, cost, sol, obj)\n",
        "loss"
      ],
      "metadata": {
        "colab": {
          "base_uri": "https://localhost:8080/"
        },
        "id": "KrtsWE9huYP_",
        "outputId": "efb975c8-200e-4b7f-ac20-e7f5faf273c7"
      },
      "execution_count": 15,
      "outputs": [
        {
          "output_type": "execute_result",
          "data": {
            "text/plain": [
              "tensor(2.1182)"
            ]
          },
          "metadata": {},
          "execution_count": 15
        }
      ]
    },
    {
      "cell_type": "markdown",
      "source": [
        "# End-to-end training"
      ],
      "metadata": {
        "id": "Rih8Y71EGlZg"
      }
    },
    {
      "cell_type": "markdown",
      "source": [
        "## Prepare data"
      ],
      "metadata": {
        "id": "Ps_4bqGyG1ry"
      }
    },
    {
      "cell_type": "code",
      "source": [
        "# Synthetic data for Shortest path problem\n",
        "def genData(num_data, num_features, grid, deg=1, noise_width=0, seed=135):\n",
        "    \"\"\"\n",
        "    A function to generate synthetic data and features for shortest path\n",
        "    Args:\n",
        "        num_data (int): number of data points\n",
        "        num_features (int): dimension of features\n",
        "        grid (int, int): size of grid network\n",
        "        deg (int): data polynomial degree\n",
        "        noise_width (float): half witdth of data random noise\n",
        "        seed (int): random seed\n",
        "    Returns:\n",
        "       tuple: data features (np.ndarray), costs (np.ndarray)\n",
        "    \"\"\"\n",
        "    # set seed\n",
        "    np.random.seed(seed)\n",
        "    # number of data points\n",
        "    n = num_data\n",
        "    # dimension of features\n",
        "    p = num_features\n",
        "    # dimension of the cost vector\n",
        "    d = (grid[0] - 1) * grid[1] + (grid[1] - 1) * grid[0]\n",
        "    # random matrix parameter B\n",
        "    B = np.random.binomial(1, 0.5, (d, p))\n",
        "    # feature vectors\n",
        "    x = np.random.normal(0, 1, (n, p))\n",
        "    # cost vectors\n",
        "    c = np.zeros((n, d))\n",
        "    for i in range(n):\n",
        "        # cost without noise\n",
        "        ci = (np.dot(B, x[i].reshape(p, 1)).T / np.sqrt(p) + 3) ** deg + 1\n",
        "        # rescale\n",
        "        ci /= 3.5 ** deg\n",
        "        # noise\n",
        "        epislon = np.random.uniform(1 - noise_width, 1 + noise_width, d)\n",
        "        ci *= epislon\n",
        "        c[i, :] = ci\n",
        "\n",
        "    return x, c"
      ],
      "metadata": {
        "id": "sv12ssKIzDp1"
      },
      "execution_count": 16,
      "outputs": []
    },
    {
      "cell_type": "code",
      "source": [
        "# generate data for grid network (features and costs)\n",
        "n = 2000 # number of data\n",
        "p = 5 # size of feature\n",
        "deg = 4 # polynomial degree\n",
        "feats, costs = genData(n, p, grid, deg=deg)"
      ],
      "metadata": {
        "id": "ROwIKcPuHhXD"
      },
      "execution_count": 17,
      "outputs": []
    },
    {
      "cell_type": "code",
      "source": [
        "# features\n",
        "print(feats.shape)\n",
        "print(feats)"
      ],
      "metadata": {
        "colab": {
          "base_uri": "https://localhost:8080/"
        },
        "id": "C5sanf81HiUL",
        "outputId": "3fe82544-87d5-4fd1-cda4-05985d414df4"
      },
      "execution_count": 18,
      "outputs": [
        {
          "output_type": "stream",
          "name": "stdout",
          "text": [
            "(2000, 5)\n",
            "[[ 0.18978013  0.28131239  0.80407457  0.34358466  0.79699536]\n",
            " [-0.89260884  0.22798708  0.40622607  0.20233536  0.44483962]\n",
            " [ 0.09901204  0.69809107 -0.25065277  0.08962057  0.7150901 ]\n",
            " ...\n",
            " [-0.80436654  0.25590744 -0.14672173 -0.41275959  1.28220286]\n",
            " [ 0.20511618 -1.79636601  1.55571123  0.11183987 -0.56605091]\n",
            " [ 0.35470335 -0.90784318 -0.384665    0.20299626  0.20231918]]\n"
          ]
        }
      ]
    },
    {
      "cell_type": "code",
      "source": [
        "# cost coefficients\n",
        "print(costs.shape)\n",
        "print(costs)"
      ],
      "metadata": {
        "colab": {
          "base_uri": "https://localhost:8080/"
        },
        "id": "NfyNIRqyIHWm",
        "outputId": "b2d24b43-c90f-4a35-90a9-738cd385267d"
      },
      "execution_count": 19,
      "outputs": [
        {
          "output_type": "stream",
          "name": "stdout",
          "text": [
            "(2000, 40)\n",
            "[[1.1196807  1.45837107 0.54643898 ... 0.98651383 0.99008207 0.85559908]\n",
            " [0.47167426 0.9868889  0.54643898 ... 0.79780845 0.78138255 0.68954997]\n",
            " [0.90154675 1.02959971 0.54643898 ... 1.16626396 0.70551119 0.47017403]\n",
            " ...\n",
            " [0.56769133 1.15386747 0.54643898 ... 1.23927857 0.5824488  0.50074203]\n",
            " [0.47062148 0.32998715 0.54643898 ... 0.10173785 0.47305124 1.24983587]\n",
            " [0.83585924 0.27219742 0.54643898 ... 0.35273756 0.23596431 0.43287876]]\n"
          ]
        }
      ]
    },
    {
      "cell_type": "code",
      "source": [
        "# split train test data\n",
        "from sklearn.model_selection import train_test_split\n",
        "x_train, x_test, c_train, c_test = train_test_split(feats, costs, test_size=1000, random_state=SEED)"
      ],
      "metadata": {
        "id": "GJi0dkWvIKAi"
      },
      "execution_count": 20,
      "outputs": []
    },
    {
      "cell_type": "code",
      "source": [
        "# optDataset class based on PyTorch Dataset\n",
        "from torch.utils.data import Dataset\n",
        "import time\n",
        "from tqdm import tqdm\n",
        "\n",
        "class optDataset(Dataset):\n",
        "    \"\"\"\n",
        "    This class is Torch Dataset for optimization problems.\n",
        "    Attributes:\n",
        "        model: Optimization models\n",
        "        feats: Data features\n",
        "        costs: Cost vectors\n",
        "        sols: Optimal solutions\n",
        "        objs: Optimal objective values\n",
        "    \"\"\"\n",
        "\n",
        "    def __init__(self, model, feats, costs):\n",
        "        \"\"\"\n",
        "        A method to create a optDataset from optModel\n",
        "        Args:\n",
        "            model: an instance of optModel\n",
        "            feats: data features\n",
        "            costs: costs of objective function\n",
        "        \"\"\"\n",
        "        self.model = model\n",
        "        # data\n",
        "        self.feats = feats\n",
        "        self.costs = costs\n",
        "        # find optimal solutions\n",
        "        self.sols, self.objs = self.getSols()\n",
        "\n",
        "    def getSols(self):\n",
        "        \"\"\"\n",
        "        A method to get optimal solutions for all cost vectors\n",
        "        \"\"\"\n",
        "        sols = []\n",
        "        objs = []\n",
        "        print(\"Optimizing for optDataset...\")\n",
        "        time.sleep(1)\n",
        "        for c in tqdm(self.costs):\n",
        "            sol, obj = self.solve(c)\n",
        "            sols.append(sol)\n",
        "            objs.append([obj])\n",
        "        return np.array(sols), np.array(objs)\n",
        "\n",
        "    def solve(self, cost):\n",
        "        \"\"\"\n",
        "        A method to solve optimization problem to get an optimal solution with given cost\n",
        "        Args:\n",
        "            cost (np.ndarray): cost of objective function\n",
        "        Returns:\n",
        "            tuple: optimal solution (np.ndarray) and objective value (float)\n",
        "        \"\"\"\n",
        "        self.model.setObj(cost)\n",
        "        sol, obj = self.model.solve()\n",
        "        return sol, obj\n",
        "\n",
        "    def __len__(self):\n",
        "        \"\"\"\n",
        "        A method to get data size\n",
        "        Returns:\n",
        "            int: the number of optimization problems\n",
        "        \"\"\"\n",
        "        return len(self.costs)\n",
        "\n",
        "    def __getitem__(self, index):\n",
        "        \"\"\"\n",
        "        A method to retrieve data\n",
        "        Args:\n",
        "            index (int): data index\n",
        "        Returns:\n",
        "            tuple: data features (torch.tensor), costs (torch.tensor), optimal solutions (torch.tensor) and objective values (torch.tensor)\n",
        "        \"\"\"\n",
        "        return (\n",
        "            torch.FloatTensor(self.feats[index]),\n",
        "            torch.FloatTensor(self.costs[index]),\n",
        "            torch.FloatTensor(self.sols[index]),\n",
        "            torch.FloatTensor(self.objs[index]),\n",
        "        )\n"
      ],
      "metadata": {
        "id": "yKq6zAcUIZ-2"
      },
      "execution_count": 21,
      "outputs": []
    },
    {
      "cell_type": "code",
      "source": [
        "# get optDataest by computing optimal solution for each cost vector\n",
        "dataset_train = optDataset(opt_model, x_train, c_train)\n",
        "dataset_test = optDataset(opt_model, x_test, c_test)"
      ],
      "metadata": {
        "colab": {
          "base_uri": "https://localhost:8080/"
        },
        "id": "HBmoMojQKYEi",
        "outputId": "96700111-ef15-40e6-e06b-6226801f7650"
      },
      "execution_count": 22,
      "outputs": [
        {
          "output_type": "stream",
          "name": "stdout",
          "text": [
            "Optimizing for optDataset...\n"
          ]
        },
        {
          "output_type": "stream",
          "name": "stderr",
          "text": [
            "100%|██████████| 1000/1000 [00:00<00:00, 5862.91it/s]\n"
          ]
        },
        {
          "output_type": "stream",
          "name": "stdout",
          "text": [
            "Optimizing for optDataset...\n"
          ]
        },
        {
          "output_type": "stream",
          "name": "stderr",
          "text": [
            "100%|██████████| 1000/1000 [00:00<00:00, 5809.56it/s]\n"
          ]
        }
      ]
    },
    {
      "cell_type": "code",
      "source": [
        "# get data loader\n",
        "from torch.utils.data import DataLoader\n",
        "batch_size = 32\n",
        "loader_train = DataLoader(dataset_train, batch_size=batch_size, shuffle=True)\n",
        "loader_test = DataLoader(dataset_test, batch_size=batch_size, shuffle=False)"
      ],
      "metadata": {
        "id": "_OsLk1i6KhLM"
      },
      "execution_count": 23,
      "outputs": []
    },
    {
      "cell_type": "markdown",
      "source": [
        "## Single layer linear model"
      ],
      "metadata": {
        "id": "Y7A4y8PYNTD7"
      }
    },
    {
      "cell_type": "code",
      "source": [
        "# build linear model\n",
        "class LinearRegression(nn.Module):\n",
        "    \n",
        "    def __init__(self):\n",
        "        super(LinearRegression, self).__init__()\n",
        "        self.linear = nn.Linear(p, (grid[0] - 1) * grid[1] + (grid[1] - 1) * grid[0])\n",
        "    \n",
        "    def forward(self, x):\n",
        "        out = self.linear(x)\n",
        "        return out"
      ],
      "metadata": {
        "id": "d_4_qvWANPGH"
      },
      "execution_count": 24,
      "outputs": []
    },
    {
      "cell_type": "markdown",
      "source": [
        "## Training with SPO+ loss"
      ],
      "metadata": {
        "id": "7gF5UJ1tNiG8"
      }
    },
    {
      "cell_type": "code",
      "source": [
        "# init model\n",
        "reg = LinearRegression()\n",
        "# cuda\n",
        "if torch.cuda.is_available():\n",
        "    reg = reg.cuda()"
      ],
      "metadata": {
        "id": "wOWenCJiNbIV"
      },
      "execution_count": 25,
      "outputs": []
    },
    {
      "cell_type": "code",
      "source": [
        "# set optimizer\n",
        "optimizer = torch.optim.Adam(reg.parameters(), lr=1e-2)"
      ],
      "metadata": {
        "id": "WXXki3xxNpeK"
      },
      "execution_count": 26,
      "outputs": []
    },
    {
      "cell_type": "code",
      "source": [
        "class SPOPlus(nn.Module):\n",
        "    \"\"\"\n",
        "    A autograd module for SPO+ Loss, as a surrogate loss function of SPO Loss,\n",
        "    which measures the decision error of optimization problem.\n",
        "    For SPO/SPO+ Loss, the objective function is linear and constraints are\n",
        "    known and fixed, but the cost vector need to be predicted from contextual\n",
        "    data.\n",
        "    The SPO+ Loss is convex with subgradient. Thus, allows us to design an\n",
        "    algorithm based on stochastic gradient descent.\n",
        "    \"\"\"\n",
        "\n",
        "    def __init__(self, optmodel, processes=1, solve_ratio=1, dataset=None):\n",
        "        \"\"\"\n",
        "        Args:\n",
        "            optmodel (optModel): an PyEPO optimization model\n",
        "            processes (int): number of processors, 1 for single-core, 0 for all of cores\n",
        "            solve_ratio (float): the ratio of new solutions computed during training\n",
        "            dataset (None/optDataset): the training data\n",
        "        \"\"\"\n",
        "        super().__init__()\n",
        "        # optimization model\n",
        "        self.optmodel = optmodel\n",
        "        # num of processors\n",
        "        self.processes = processes\n",
        "        print(\"Num of cores: {}\".format(self.processes))\n",
        "        # solution pool\n",
        "        self.solve_ratio = solve_ratio\n",
        "        self.solpool = None\n",
        "        # build carterion\n",
        "        self.spop = SPOPlusFunc()\n",
        "\n",
        "    def forward(self, pred_cost, true_cost, true_sol, true_obj):\n",
        "        \"\"\"\n",
        "        Forward pass\n",
        "        \"\"\"\n",
        "        loss = self.spop.apply(pred_cost, true_cost, true_sol, true_obj,\n",
        "                               self.optmodel, self.processes, self.solve_ratio,\n",
        "                               self)\n",
        "        return loss\n",
        "\n",
        "\n",
        "\n",
        "class SPOPlusFunc(Function):\n",
        "    \"\"\"\n",
        "    A autograd function for SPO+ Loss\n",
        "    \"\"\"\n",
        "\n",
        "    @staticmethod\n",
        "    def forward(ctx, pred_cost, true_cost, true_sol, true_obj,\n",
        "                optmodel, processes, solve_ratio, module):\n",
        "        \"\"\"\n",
        "        Forward pass for SPO+\n",
        "        Args:\n",
        "            pred_cost (torch.tensor): a batch of predicted values of the cost\n",
        "            true_cost (torch.tensor): a batch of true values of the cost\n",
        "            true_sol (torch.tensor): a batch of true optimal solutions\n",
        "            true_obj (torch.tensor): a batch of true optimal objective values\n",
        "            optmodel (optModel): an PyEPO optimization model\n",
        "            processes (int): number of processors, 1 for single-core, 0 for all of cores\n",
        "            solve_ratio (float): the ratio of new solutions computed during training\n",
        "            module (nn.Module): SPOPlus modeul\n",
        "        Returns:\n",
        "            torch.tensor: SPO+ loss\n",
        "        \"\"\"\n",
        "        # get device\n",
        "        device = pred_cost.device\n",
        "        # convert tenstor\n",
        "        cp = pred_cost.detach().to(\"cpu\").numpy()\n",
        "        c = true_cost.detach().to(\"cpu\").numpy()\n",
        "        w = true_sol.detach().to(\"cpu\").numpy()\n",
        "        z = true_obj.detach().to(\"cpu\").numpy()\n",
        "        # check sol\n",
        "        #_check_sol(c, w, z)\n",
        "        # solve\n",
        "        sol, loss = _solve_in_forward(cp, c, w, z, optmodel, processes)\n",
        "        if solve_ratio < 1:\n",
        "            module.solpool = np.concatenate((module.solpool, sol))\n",
        "\n",
        "        loss = np.array(loss)\n",
        "        # convert to tensor\n",
        "        loss = torch.FloatTensor(loss).to(device)\n",
        "        sol = np.array(sol)\n",
        "        sol = torch.FloatTensor(sol).to(device)\n",
        "        # save solutions\n",
        "        ctx.save_for_backward(true_sol, sol)\n",
        "        # add other objects to ctx\n",
        "        ctx.optmodel = optmodel\n",
        "        return loss\n",
        "\n",
        "    @staticmethod\n",
        "    def backward(ctx, grad_output):\n",
        "        \"\"\"\n",
        "        Backward pass for SPO+\n",
        "        \"\"\"\n",
        "        w, wq = ctx.saved_tensors\n",
        "        optmodel = ctx.optmodel\n",
        "        grad = 2 * (w - wq)\n",
        "        \n",
        "        return grad_output * grad, None, None, None, None, None, None, None\n",
        "\n",
        "\n",
        "def _solve_in_forward(cp, c, w, z, optmodel, processes):\n",
        "    \"\"\"\n",
        "    A function to solve optimization in the forward pass\n",
        "    \"\"\"\n",
        "    # number of instance\n",
        "    ins_num = len(z)\n",
        "    # single-core\n",
        "\n",
        "    loss = []\n",
        "    sol = []\n",
        "    for i in range(ins_num):\n",
        "        new_cost = 2 * cp[i] - c[i]\n",
        "        # print(new_cost)\n",
        "        # print(np.min(new_cost))\n",
        "        if np.min(new_cost)<0:\n",
        "            new_cost = new_cost + np.abs(np.min(new_cost))\n",
        "            # cp[i] = cp[i] + np.abs(np.min(new_cost))\n",
        "        # print(new_cost)\n",
        "        optmodel.setObj(new_cost)\n",
        "\n",
        "        # solve\n",
        "        # optmodel.setObj(2 * cp[i] - c[i])\n",
        "        solq, objq = optmodel.solve()\n",
        "        objq -= len(solq)*np.abs(np.min(new_cost))\n",
        "        # calculate loss\n",
        "        # print(objq)\n",
        "        loss.append(objq + 2 * np.dot(cp[i], w[i]) - z[i])\n",
        "        # solution\n",
        "        sol.append(solq)\n",
        "    \n",
        "    return sol, loss\n"
      ],
      "metadata": {
        "id": "_ip2K1Ec4knM"
      },
      "execution_count": 27,
      "outputs": []
    },
    {
      "cell_type": "code",
      "source": [
        "spop = SPOPlus(opt_model)"
      ],
      "metadata": {
        "colab": {
          "base_uri": "https://localhost:8080/"
        },
        "id": "mIRzV0zKNtr-",
        "outputId": "ccafc5ab-1fd5-466b-815a-0c817b323738"
      },
      "execution_count": 28,
      "outputs": [
        {
          "output_type": "stream",
          "name": "stdout",
          "text": [
            "Num of cores: 1\n"
          ]
        }
      ]
    },
    {
      "cell_type": "code",
      "source": [
        "def regret(predmodel, optmodel, dataloader):\n",
        "    \"\"\"\n",
        "    A function to evaluate model performance with normalized true regret\n",
        "    Args:\n",
        "        predmodel (nn): a regression neural network for cost prediction\n",
        "        optmodel (optModel): an PyEPO optimization model\n",
        "        dataloader (DataLoader): Torch dataloader from optDataSet\n",
        "    Returns:\n",
        "        float: true regret loss\n",
        "    \"\"\"\n",
        "    # evaluate\n",
        "    predmodel.eval()\n",
        "    loss = 0\n",
        "    optsum = 0\n",
        "    # load data\n",
        "    for data in dataloader:\n",
        "        # print(\"test\")\n",
        "        x, c, w, z = data\n",
        "        # cuda\n",
        "        if next(predmodel.parameters()).is_cuda:\n",
        "            x, c, w, z = x.cuda(), c.cuda(), w.cuda(), z.cuda()\n",
        "        # predict\n",
        "        with torch.no_grad(): # no grad\n",
        "            cp = predmodel(x).to(\"cpu\").detach().numpy()\n",
        "        # solve\n",
        "        for j in range(cp.shape[0]):\n",
        "            # print(cp[j])\n",
        "            # print(c[j])\n",
        "            # accumulate loss\n",
        "            loss += calRegret(optmodel, cp[j], c[j].to(\"cpu\").detach().numpy(),\n",
        "                              z[j].item())\n",
        "        optsum += abs(z).sum().item()\n",
        "    # turn back train mode\n",
        "    predmodel.train()\n",
        "    # normalized\n",
        "    return loss / (optsum + 1e-7)\n",
        "\n",
        "\n",
        "def calRegret(optmodel, pred_cost, true_cost, true_obj):\n",
        "    \"\"\"\n",
        "    A function to calculate normalized true regret for a batch\n",
        "    Args:\n",
        "        optmodel (optModel): optimization model\n",
        "        pred_cost (torch.tensor): predicted costs\n",
        "        true_cost (torch.tensor): true costs\n",
        "        true_obj (torch.tensor): true optimal objective values\n",
        "    Returns:predmodel\n",
        "        float: true regret losses\n",
        "    \"\"\"\n",
        "    new_cost_pred = pred_cost\n",
        "    if np.min(new_cost_pred)<0:\n",
        "        new_cost_pred = new_cost_pred + np.abs(np.min(new_cost_pred))\n",
        "\n",
        "    # opt sol for pred cost\n",
        "    optmodel.setObj(new_cost_pred)\n",
        "    sol, _ = optmodel.solve()\n",
        "    # obj with true cost\n",
        "    obj = np.dot(sol, true_cost)\n",
        "    # loss\n",
        "    loss = obj - true_obj\n",
        "    return loss"
      ],
      "metadata": {
        "id": "srCPQSVgOBBO"
      },
      "execution_count": 29,
      "outputs": []
    },
    {
      "cell_type": "code",
      "source": [
        "# train model\n",
        "num_epochs = 50\n",
        "reg.train()\n",
        "# init log\n",
        "loss_log = []\n",
        "loss_log_regret = [regret(reg, opt_model, loader_test)]\n",
        "for epoch in range(num_epochs):\n",
        "    # load data\n",
        "    for i, data in enumerate(loader_train):\n",
        "        x, c, w, z = data\n",
        "        # cuda\n",
        "        if torch.cuda.is_available():\n",
        "            x, c, w, z = x.cuda(), c.cuda(), w.cuda(), z.cuda()\n",
        "        # forward pass\n",
        "        cp = reg(x)\n",
        "        # for obs_idx, (obs_cp, obs_c, obs_w, obs_z) in enumerate(zip(cp, c, w, z)):\n",
        "        #     loss += spop(obs_cp, obs_c, obs_w, obs_z)\n",
        "        # loss /= len(data)\n",
        "        # print(loss)\n",
        "        loss = spop(cp, c, w, z).mean()\n",
        "        # backward pass\n",
        "        optimizer.zero_grad()\n",
        "        loss.backward()\n",
        "        optimizer.step()\n",
        "        # log\n",
        "        loss_log.append(loss.item())\n",
        "    batch_regret = regret(reg, opt_model, loader_test)\n",
        "    loss_log_regret.append(batch_regret)\n",
        "    print(\"Epoch {:3}, Loss: {:8.4f}, Regret: {:7.4f}%\".format(epoch+1, loss.item(), batch_regret*100))"
      ],
      "metadata": {
        "colab": {
          "base_uri": "https://localhost:8080/"
        },
        "id": "uNQYaBh_N5jg",
        "outputId": "93321e2d-d907-4a8f-81d5-c51673c123e2"
      },
      "execution_count": 30,
      "outputs": [
        {
          "output_type": "stream",
          "name": "stdout",
          "text": [
            "Epoch   1, Loss:   7.9939, Regret:  4.1036%\n",
            "Epoch   2, Loss:   5.2713, Regret:  0.8524%\n",
            "Epoch   3, Loss:   4.6704, Regret:  0.6220%\n",
            "Epoch   4, Loss:   3.9321, Regret:  0.5403%\n",
            "Epoch   5, Loss:   2.7494, Regret:  0.4910%\n",
            "Epoch   6, Loss:   6.4899, Regret:  0.4705%\n",
            "Epoch   7, Loss:   6.0828, Regret:  0.4228%\n",
            "Epoch   8, Loss:   5.6708, Regret:  0.4704%\n",
            "Epoch   9, Loss:   6.0230, Regret:  0.4780%\n",
            "Epoch  10, Loss:   5.5521, Regret:  0.4830%\n",
            "Epoch  11, Loss:   6.1488, Regret:  0.4984%\n",
            "Epoch  12, Loss:   6.8542, Regret:  0.4731%\n",
            "Epoch  13, Loss:   4.8488, Regret:  0.6913%\n",
            "Epoch  14, Loss:   4.9232, Regret:  0.4471%\n",
            "Epoch  15, Loss:   2.5533, Regret:  0.4631%\n",
            "Epoch  16, Loss:   5.4317, Regret:  0.4155%\n",
            "Epoch  17, Loss:   4.3595, Regret:  0.5253%\n",
            "Epoch  18, Loss:   7.7865, Regret:  0.3632%\n",
            "Epoch  19, Loss:   3.6873, Regret:  0.4908%\n",
            "Epoch  20, Loss:   8.5261, Regret:  0.5472%\n",
            "Epoch  21, Loss:   6.1972, Regret:  0.4776%\n",
            "Epoch  22, Loss:   5.7222, Regret:  0.4837%\n",
            "Epoch  23, Loss:   1.7684, Regret:  0.4549%\n",
            "Epoch  24, Loss:   4.6634, Regret:  0.5210%\n",
            "Epoch  25, Loss:   3.4701, Regret:  0.4847%\n",
            "Epoch  26, Loss:   7.8971, Regret:  0.4379%\n",
            "Epoch  27, Loss:   4.5715, Regret:  0.4181%\n",
            "Epoch  28, Loss:   4.9922, Regret:  0.5181%\n",
            "Epoch  29, Loss:  10.3727, Regret:  0.5268%\n",
            "Epoch  30, Loss:   4.3950, Regret:  0.5015%\n",
            "Epoch  31, Loss:   1.0460, Regret:  0.4388%\n",
            "Epoch  32, Loss:   7.3970, Regret:  0.4106%\n",
            "Epoch  33, Loss:   4.2428, Regret:  0.4036%\n",
            "Epoch  34, Loss:   4.0507, Regret:  0.4879%\n",
            "Epoch  35, Loss:   6.5997, Regret:  0.4226%\n",
            "Epoch  36, Loss:   4.3654, Regret:  0.4145%\n",
            "Epoch  37, Loss:   5.9314, Regret:  0.4528%\n",
            "Epoch  38, Loss:   5.1202, Regret:  0.4303%\n",
            "Epoch  39, Loss:   4.3039, Regret:  0.3706%\n",
            "Epoch  40, Loss:   4.6415, Regret:  0.5114%\n",
            "Epoch  41, Loss:   2.0715, Regret:  0.4058%\n",
            "Epoch  42, Loss:   3.1426, Regret:  0.4003%\n",
            "Epoch  43, Loss:   3.8153, Regret:  0.3863%\n",
            "Epoch  44, Loss:   2.9893, Regret:  0.4230%\n",
            "Epoch  45, Loss:   7.1724, Regret:  0.4337%\n",
            "Epoch  46, Loss:   6.7518, Regret:  0.5155%\n",
            "Epoch  47, Loss:   6.1323, Regret:  0.4771%\n",
            "Epoch  48, Loss:   6.4447, Regret:  0.4175%\n",
            "Epoch  49, Loss:   5.8416, Regret:  0.6758%\n",
            "Epoch  50, Loss:   7.9080, Regret:  0.5204%\n"
          ]
        }
      ]
    },
    {
      "cell_type": "code",
      "source": [
        "# draw plot for training loss\n",
        "plt.figure(figsize=(8, 4))\n",
        "plt.plot(loss_log, color=\"c\", lw=2)\n",
        "plt.xticks(fontsize=14)\n",
        "plt.yticks(fontsize=14)\n",
        "plt.xlabel(\"Iters\", fontsize=18)\n",
        "plt.ylabel(\"Loss\", fontsize=18)\n",
        "plt.title(\"Learning Curve on Training Set\", fontsize=18)\n",
        "plt.show()"
      ],
      "metadata": {
        "colab": {
          "base_uri": "https://localhost:8080/",
          "height": 311
        },
        "id": "2E1AINvvOT3b",
        "outputId": "0b47498a-4e6c-4a3e-d66f-7540b2a5d9b8"
      },
      "execution_count": 31,
      "outputs": [
        {
          "output_type": "display_data",
          "data": {
            "text/plain": [
              "<Figure size 576x288 with 1 Axes>"
            ],
            "image/png": "[encoded data removed]"
          },
          "metadata": {
            "needs_background": "light"
          }
        }
      ]
    },
    {
      "cell_type": "code",
      "source": [
        "# draw plot for regret on test\n",
        "fig = plt.figure(figsize=(8, 4))\n",
        "plt.plot(range(num_epochs+1), loss_log_regret, color=\"royalblue\", ls=\"--\", alpha=0.7, lw=2)\n",
        "plt.xticks(range(0, num_epochs+1, 2), fontsize=14)\n",
        "plt.yticks(fontsize=14)\n",
        "plt.ylim(0, 0.2)\n",
        "plt.xlabel(\"Epochs\", fontsize=18)\n",
        "plt.ylabel(\"Regret\", fontsize=18)\n",
        "plt.title(\"Learning Curve on Test Set\", fontsize=18)\n",
        "plt.show()"
      ],
      "metadata": {
        "colab": {
          "base_uri": "https://localhost:8080/",
          "height": 311
        },
        "id": "W0nr0Fec56uy",
        "outputId": "0541c11c-d64c-423b-bffd-ede45057a414"
      },
      "execution_count": 32,
      "outputs": [
        {
          "output_type": "display_data",
          "data": {
            "text/plain": [
              "<Figure size 576x288 with 1 Axes>"
            ],
            "image/png": "[encoded data removed]"
          },
          "metadata": {
            "needs_background": "light"
          }
        }
      ]
    },
    {
      "cell_type": "code",
      "source": [],
      "metadata": {
        "id": "SeUZr92w589E"
      },
      "execution_count": 32,
      "outputs": []
    }
  ]
}