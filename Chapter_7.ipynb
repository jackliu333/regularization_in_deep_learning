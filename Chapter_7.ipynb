{
  "nbformat": 4,
  "nbformat_minor": 0,
  "metadata": {
    "colab": {
      "provenance": [],
      "authorship_tag": "ABX9TyOguwsmHsJdmAivufI2m+6J"
    },
    "kernelspec": {
      "name": "python3",
      "display_name": "Python 3"
    },
    "language_info": {
      "name": "python"
    },
    "accelerator": "GPU"
  },
  "cells": [
    {
      "cell_type": "code",
      "execution_count": 1,
      "metadata": {
        "id": "RmiQnLG_y7qt"
      },
      "outputs": [],
      "source": [
        "# import necessary packages\n",
        "import math, argparse\n",
        "import numpy as np\n",
        "from numpy import random\n",
        "import torch\n",
        "import torch.nn as nn\n",
        "from sklearn import datasets\n",
        "from sklearn.model_selection import train_test_split\n",
        "import matplotlib.pyplot as plt\n",
        "\n",
        "# set seed to ensure reproducibility\n",
        "SEED = 8\n",
        "random.seed(SEED)\n",
        "torch.manual_seed(SEED)\n",
        "np.random.seed(SEED)"
      ]
    },
    {
      "cell_type": "markdown",
      "source": [
        "# Data"
      ],
      "metadata": {
        "id": "AEaUSzBGyyaU"
      }
    },
    {
      "cell_type": "code",
      "source": [
        "# prepare dummy data\n",
        "X, y = datasets.make_regression(n_samples=100, n_features=20, noise=80, random_state=SEED)\n",
        "# apply the bias trick\n",
        "X = np.c_[np.ones(X.shape[0]), X] \n",
        "# train test split\n",
        "X_train, X_test, y_train, y_test = train_test_split(X, y, test_size=0.2, random_state=SEED)\n",
        "n_samples, n_features = X_train.shape\n"
      ],
      "metadata": {
        "id": "uhqT1jRyyUTf"
      },
      "execution_count": 2,
      "outputs": []
    },
    {
      "cell_type": "markdown",
      "source": [
        "# Model "
      ],
      "metadata": {
        "id": "KhqxUFY1O7xg"
      }
    },
    {
      "cell_type": "markdown",
      "source": [
        "## Linear regression using gradient descent from scratch"
      ],
      "metadata": {
        "id": "XwgsXwAVgV1W"
      }
    },
    {
      "cell_type": "markdown",
      "source": [
        "### Without ridge penalty"
      ],
      "metadata": {
        "id": "3fq_hlN4iKIq"
      }
    },
    {
      "cell_type": "code",
      "source": [
        "class GD_regression:\n",
        "    def __init__(self, lr=1e-3, num_epochs=1000, l2_penalty=0):\n",
        "        self.lr = lr\n",
        "        self.num_epochs = num_epochs\n",
        "        self.l2_penalty = l2_penalty\n",
        "        self.train_loss = []\n",
        "        self.test_loss = []\n",
        "\n",
        "    # function to estimate model coefficients\n",
        "    def fit(self, X_train, y_train, X_test, y_test):\n",
        "        # initialize weights to be an array of zeros\n",
        "        weights = np.zeros(X_train.shape[1])\n",
        "        # iteration counter\n",
        "        epoch = 0 \n",
        "        # while not reaching maximum number of iterations:\n",
        "        while epoch < self.num_epochs:\n",
        "            # increment iteration counter\n",
        "            epoch += 1  \n",
        "            # compute the predictions based on current weights\n",
        "            predictions = np.dot(X_train, weights)\n",
        "            # compute the errors as predictions - output\n",
        "            errors = predictions.reshape(-1,1) - y_train.reshape(-1,1)\n",
        "            # coordinate descent over each weight\n",
        "            for i in range(len(weights)): \n",
        "                # compute the derivative for the ith weight\n",
        "                if i == 0:\n",
        "                    # compute the derivative of the constant weight when i=0\n",
        "                    derivative = self.feature_derivative_ridge(errors, X_train[:,i].reshape(1,-1), \n",
        "                                            weights[i], self.l2_penalty, True)\n",
        "                else:\n",
        "                    # compute the derivative of all other weights\n",
        "                    derivative = self.feature_derivative_ridge(errors, X_train[:,i].reshape(1,-1), \n",
        "                                            weights[i], self.l2_penalty, False)\n",
        "                # gradient descent update for each coordinate/weight\n",
        "                weights[i] = weights[i] - self.lr * derivative\n",
        "\n",
        "            # score using training and test sets\n",
        "            self.train_loss.append(self.calculate_mse(X_train, y_train, weights))\n",
        "            self.test_loss.append(self.calculate_mse(X_test, y_test, weights))\n",
        "        # store the final weights\n",
        "        self.weights = weights\n",
        "        return self\n",
        "\n",
        "    # function to calculate the mean squared error\n",
        "    def calculate_mse(self, X, y, weights):\n",
        "        # generate model prediction\n",
        "        f_star = X@weights\n",
        "        # calculate the residuals\n",
        "        resid = y - f_star\n",
        "        # MSE as the final cost \n",
        "        Q = np.dot(resid.T, resid).mean()\n",
        "        return Q\n",
        "\n",
        "    # function to calculate feature-wise closed-form derivative\n",
        "    def feature_derivative_ridge(self, errors, feature, weight, l2_penalty, feature_is_constant):\n",
        "        # compute the derivative of the weight corresponding to the bias term\n",
        "        if feature_is_constant == True:\n",
        "            derivative = np.dot(feature, errors) * 2\n",
        "        # compute the derivative of all other weights\n",
        "        elif feature_is_constant == False:\n",
        "            derivative = np.dot(feature, errors) * 2 + 2*l2_penalty*weight\n",
        "        else:\n",
        "            derivative = 'derivative not exist!!!'\n",
        "        return derivative"
      ],
      "metadata": {
        "id": "EcWzuZURyUQx"
      },
      "execution_count": 3,
      "outputs": []
    },
    {
      "cell_type": "code",
      "source": [
        "model = GD_regression(num_epochs=100)\n",
        "model.fit(X_train, y_train, X_test, y_test)"
      ],
      "metadata": {
        "colab": {
          "base_uri": "https://localhost:8080/"
        },
        "id": "eXyI-gLNyUOK",
        "outputId": "a09be108-caf1-427d-98e6-c9236356f4f0"
      },
      "execution_count": 4,
      "outputs": [
        {
          "output_type": "execute_result",
          "data": {
            "text/plain": [
              "<__main__.GD_regression at 0x7f0d55243890>"
            ]
          },
          "metadata": {},
          "execution_count": 4
        }
      ]
    },
    {
      "cell_type": "code",
      "source": [
        "x_axis = list(range(model.num_epochs))\n",
        "plt.plot(x_axis, model.train_loss, label = \"train\")\n",
        "plt.plot(x_axis, model.test_loss, ':', label = \"test\")\n",
        "plt.legend()\n",
        "plt.show()"
      ],
      "metadata": {
        "colab": {
          "base_uri": "https://localhost:8080/",
          "height": 276
        },
        "id": "vE0t1wB2yUL0",
        "outputId": "5e118330-83c1-4610-89cc-0317c5d0b66c"
      },
      "execution_count": 5,
      "outputs": [
        {
          "output_type": "display_data",
          "data": {
            "text/plain": [
              "<Figure size 432x288 with 1 Axes>"
            ],
            "image/png": "[encoded data removed]"
          },
          "metadata": {
            "needs_background": "light"
          }
        }
      ]
    },
    {
      "cell_type": "markdown",
      "source": [
        "### With ridge penalty"
      ],
      "metadata": {
        "id": "gq1CrW29iQyf"
      }
    },
    {
      "cell_type": "code",
      "source": [
        "model_ridge = GD_regression(num_epochs=100, l2_penalty=10)\n",
        "model_ridge.fit(X_train, y_train, X_test, y_test)"
      ],
      "metadata": {
        "colab": {
          "base_uri": "https://localhost:8080/"
        },
        "id": "gsuVR0MTiTWg",
        "outputId": "e4c74293-d6ee-444d-8005-17f65d2441c8"
      },
      "execution_count": 6,
      "outputs": [
        {
          "output_type": "execute_result",
          "data": {
            "text/plain": [
              "<__main__.GD_regression at 0x7f0d54d00cd0>"
            ]
          },
          "metadata": {},
          "execution_count": 6
        }
      ]
    },
    {
      "cell_type": "code",
      "source": [
        "x_axis = list(range(model.num_epochs))\n",
        "plt.plot(x_axis, model.train_loss, label = \"train-without-ridge\")\n",
        "plt.plot(x_axis, model.test_loss, ':', label = \"test-without-ridge\")\n",
        "plt.plot(x_axis, model_ridge.train_loss, '--', label = \"train-with-ridge\")\n",
        "plt.plot(x_axis, model_ridge.test_loss, '-.', label = \"test-with-ridge\")\n",
        "plt.legend()\n",
        "plt.show()"
      ],
      "metadata": {
        "colab": {
          "base_uri": "https://localhost:8080/",
          "height": 276
        },
        "id": "R2UoG-SkiTHa",
        "outputId": "f9c016f3-740f-422a-86d6-2d1e33bc14fd"
      },
      "execution_count": 7,
      "outputs": [
        {
          "output_type": "display_data",
          "data": {
            "text/plain": [
              "<Figure size 432x288 with 1 Axes>"
            ],
            "image/png": "[encoded data removed]"
          },
          "metadata": {
            "needs_background": "light"
          }
        }
      ]
    },
    {
      "cell_type": "code",
      "source": [
        "from numpy import linalg as LA\n",
        "print(LA.norm(model.weights, 2))\n",
        "print(LA.norm(model_ridge.weights, 2))"
      ],
      "metadata": {
        "colab": {
          "base_uri": "https://localhost:8080/"
        },
        "id": "aeUDn_EfId-K",
        "outputId": "6359deab-8946-45ae-979f-6c2d2d894b3d"
      },
      "execution_count": 8,
      "outputs": [
        {
          "output_type": "stream",
          "name": "stdout",
          "text": [
            "187.17545901615978\n",
            "161.7645420688599\n"
          ]
        }
      ]
    },
    {
      "cell_type": "markdown",
      "source": [
        "## Liear regression using one layer FCN"
      ],
      "metadata": {
        "id": "CqNxAgqwgg0N"
      }
    },
    {
      "cell_type": "markdown",
      "source": [
        "### Without ridge penalty"
      ],
      "metadata": {
        "id": "SFz3g7zwZpRJ"
      }
    },
    {
      "cell_type": "code",
      "source": [
        "class FCN_regression:\n",
        "    def __init__(self, input_size, lr=1e-3, num_epochs=1000, l2_penalty=0):\n",
        "        self.lr = lr\n",
        "        self.num_epochs = num_epochs\n",
        "        self.l2_penalty = l2_penalty\n",
        "        self.train_loss = []\n",
        "        self.test_loss = []\n",
        "        self.model = nn.Linear(input_size, 1)\n",
        "        self.criterion = nn.MSELoss()\n",
        "        self.optimizer = torch.optim.SGD(self.model.parameters(), lr=self.lr)  \n",
        "\n",
        "    def fit(self, X_train, y_train, X_test, y_test):\n",
        "        # initialize weights to be an array of zeros\n",
        "        weights = np.zeros(X_train.shape[1])\n",
        "        # iteration counter\n",
        "        epoch = 0 \n",
        "        # convert to tensor\n",
        "        X_train = torch.from_numpy(X_train).float()\n",
        "        X_test = torch.from_numpy(X_test).float()\n",
        "        y_train = torch.from_numpy(y_train).float()\n",
        "        y_test = torch.from_numpy(y_test).float()\n",
        "        \n",
        "        for epoch in range(self.num_epochs):\n",
        "            # forward pass to calculate prediction\n",
        "            y_predicted = self.model(X_train)\n",
        "            # get current MSE loss\n",
        "            loss_train = self.criterion(y_predicted, y_train)\n",
        "            self.train_loss.append(loss_train.item())\n",
        "            # add L2 penalty\n",
        "            l2_norm = sum(p.pow(2.0).sum() for p in self.model.parameters())\n",
        "            loss_train = loss_train + self.l2_penalty * l2_norm\n",
        "            # backward pass to perform SGD\n",
        "            self.optimizer.zero_grad()\n",
        "            loss_train.backward()\n",
        "            self.optimizer.step()\n",
        "            # calculate and store test loss without gradient\n",
        "            with torch.no_grad():\n",
        "                y_test_pred = self.predict(X_test)\n",
        "                loss_test = self.criterion(y_test_pred, y_test)\n",
        "                self.test_loss.append(loss_test.item())\n",
        "\n",
        "        return self\n",
        "\n",
        "    # make class predictions for test set\n",
        "    def predict(self, x):\n",
        "        model = self.model.eval()\n",
        "        outputs = model(x)\n",
        "        model = self.model.train()\n",
        "        return outputs"
      ],
      "metadata": {
        "id": "_76gW_5NyUGn"
      },
      "execution_count": 9,
      "outputs": []
    },
    {
      "cell_type": "code",
      "source": [
        "model = FCN_regression(input_size=X_train.shape[1], lr=1e-3, num_epochs=10000)\n",
        "model.fit(X_train, y_train, X_test, y_test)"
      ],
      "metadata": {
        "colab": {
          "base_uri": "https://localhost:8080/"
        },
        "id": "gv0fuKdayUEM",
        "outputId": "77be52ce-8187-4ed3-94e7-0368628da451"
      },
      "execution_count": 10,
      "outputs": [
        {
          "output_type": "stream",
          "name": "stderr",
          "text": [
            "/usr/local/lib/python3.7/dist-packages/torch/nn/modules/loss.py:530: UserWarning: Using a target size (torch.Size([80])) that is different to the input size (torch.Size([80, 1])). This will likely lead to incorrect results due to broadcasting. Please ensure they have the same size.\n",
            "  return F.mse_loss(input, target, reduction=self.reduction)\n",
            "/usr/local/lib/python3.7/dist-packages/torch/nn/modules/loss.py:530: UserWarning: Using a target size (torch.Size([20])) that is different to the input size (torch.Size([20, 1])). This will likely lead to incorrect results due to broadcasting. Please ensure they have the same size.\n",
            "  return F.mse_loss(input, target, reduction=self.reduction)\n"
          ]
        },
        {
          "output_type": "execute_result",
          "data": {
            "text/plain": [
              "<__main__.FCN_regression at 0x7f0d5519a710>"
            ]
          },
          "metadata": {},
          "execution_count": 10
        }
      ]
    },
    {
      "cell_type": "code",
      "source": [
        "x_axis = list(range(model.num_epochs))\n",
        "plt.plot(x_axis, model.train_loss, label = \"train\")\n",
        "plt.plot(x_axis, model.test_loss, ':', label = \"test\")\n",
        "plt.legend()\n",
        "plt.show()"
      ],
      "metadata": {
        "colab": {
          "base_uri": "https://localhost:8080/",
          "height": 265
        },
        "id": "GADrfwBhyUBc",
        "outputId": "3b8c5abb-4d62-4718-f9cf-987310afd6e6"
      },
      "execution_count": 11,
      "outputs": [
        {
          "output_type": "display_data",
          "data": {
            "text/plain": [
              "<Figure size 432x288 with 1 Axes>"
            ],
            "image/png": "[encoded data removed]"
          },
          "metadata": {
            "needs_background": "light"
          }
        }
      ]
    },
    {
      "cell_type": "markdown",
      "source": [
        "### With ridge penalty"
      ],
      "metadata": {
        "id": "PVpVrH7hZrHn"
      }
    },
    {
      "cell_type": "code",
      "source": [
        "model_ridge = FCN_regression(input_size=X_train.shape[1], lr=1e-3, num_epochs=10000, l2_penalty=0.1)\n",
        "model_ridge.fit(X_train, y_train, X_test, y_test)"
      ],
      "metadata": {
        "colab": {
          "base_uri": "https://localhost:8080/"
        },
        "id": "cu2Gx4UjyT-z",
        "outputId": "55a5e2e8-751f-4bc1-954c-8842e39fa330"
      },
      "execution_count": 12,
      "outputs": [
        {
          "output_type": "execute_result",
          "data": {
            "text/plain": [
              "<__main__.FCN_regression at 0x7f0d4e299d10>"
            ]
          },
          "metadata": {},
          "execution_count": 12
        }
      ]
    },
    {
      "cell_type": "code",
      "source": [],
      "metadata": {
        "id": "jDvW3SWahOBF"
      },
      "execution_count": 12,
      "outputs": []
    },
    {
      "cell_type": "code",
      "source": [
        "x_axis = list(range(model.num_epochs))\n",
        "plt.plot(x_axis, model.train_loss, label = \"train-without-ridge\")\n",
        "plt.plot(x_axis, model.test_loss, ':', label = \"test-without-ridge\")\n",
        "plt.plot(x_axis, model_ridge.train_loss, '--', label = \"train-with-ridge\")\n",
        "plt.plot(x_axis, model_ridge.test_loss, '-.', label = \"test-with-ridge\")\n",
        "plt.legend()\n",
        "plt.show()"
      ],
      "metadata": {
        "colab": {
          "base_uri": "https://localhost:8080/",
          "height": 265
        },
        "id": "O-GAT_A1yT8M",
        "outputId": "e96a85d7-d1c9-4ff8-97a5-587135652db8"
      },
      "execution_count": 13,
      "outputs": [
        {
          "output_type": "display_data",
          "data": {
            "text/plain": [
              "<Figure size 432x288 with 1 Axes>"
            ],
            "image/png": "[encoded data removed]"
          },
          "metadata": {
            "needs_background": "light"
          }
        }
      ]
    },
    {
      "cell_type": "code",
      "source": [],
      "metadata": {
        "id": "1qmf8tduawE4"
      },
      "execution_count": 13,
      "outputs": []
    },
    {
      "cell_type": "code",
      "source": [],
      "metadata": {
        "id": "gEUlZZv3awCi"
      },
      "execution_count": 13,
      "outputs": []
    },
    {
      "cell_type": "code",
      "source": [],
      "metadata": {
        "id": "k-vFAXi-av_8"
      },
      "execution_count": 13,
      "outputs": []
    },
    {
      "cell_type": "code",
      "source": [],
      "metadata": {
        "id": "PCVyoLCZfJbi"
      },
      "execution_count": 13,
      "outputs": []
    }
  ]
}